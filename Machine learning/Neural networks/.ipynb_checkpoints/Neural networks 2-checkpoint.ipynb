{
 "cells": [
  {
   "cell_type": "code",
   "execution_count": 1,
   "metadata": {},
   "outputs": [],
   "source": [
    "df <- read.csv('bank_note_data.csv')"
   ]
  },
  {
   "cell_type": "code",
   "execution_count": 2,
   "metadata": {},
   "outputs": [
    {
     "data": {
      "text/html": [
       "<table class=\"dataframe\">\n",
       "<caption>A data.frame: 6 × 5</caption>\n",
       "<thead>\n",
       "\t<tr><th></th><th scope=col>Image.Var</th><th scope=col>Image.Skew</th><th scope=col>Image.Curt</th><th scope=col>Entropy</th><th scope=col>Class</th></tr>\n",
       "\t<tr><th></th><th scope=col>&lt;dbl&gt;</th><th scope=col>&lt;dbl&gt;</th><th scope=col>&lt;dbl&gt;</th><th scope=col>&lt;dbl&gt;</th><th scope=col>&lt;int&gt;</th></tr>\n",
       "</thead>\n",
       "<tbody>\n",
       "\t<tr><th scope=row>1</th><td>3.62160</td><td> 8.6661</td><td>-2.8073</td><td>-0.44699</td><td>0</td></tr>\n",
       "\t<tr><th scope=row>2</th><td>4.54590</td><td> 8.1674</td><td>-2.4586</td><td>-1.46210</td><td>0</td></tr>\n",
       "\t<tr><th scope=row>3</th><td>3.86600</td><td>-2.6383</td><td> 1.9242</td><td> 0.10645</td><td>0</td></tr>\n",
       "\t<tr><th scope=row>4</th><td>3.45660</td><td> 9.5228</td><td>-4.0112</td><td>-3.59440</td><td>0</td></tr>\n",
       "\t<tr><th scope=row>5</th><td>0.32924</td><td>-4.4552</td><td> 4.5718</td><td>-0.98880</td><td>0</td></tr>\n",
       "\t<tr><th scope=row>6</th><td>4.36840</td><td> 9.6718</td><td>-3.9606</td><td>-3.16250</td><td>0</td></tr>\n",
       "</tbody>\n",
       "</table>\n"
      ],
      "text/latex": [
       "A data.frame: 6 × 5\n",
       "\\begin{tabular}{r|lllll}\n",
       "  & Image.Var & Image.Skew & Image.Curt & Entropy & Class\\\\\n",
       "  & <dbl> & <dbl> & <dbl> & <dbl> & <int>\\\\\n",
       "\\hline\n",
       "\t1 & 3.62160 &  8.6661 & -2.8073 & -0.44699 & 0\\\\\n",
       "\t2 & 4.54590 &  8.1674 & -2.4586 & -1.46210 & 0\\\\\n",
       "\t3 & 3.86600 & -2.6383 &  1.9242 &  0.10645 & 0\\\\\n",
       "\t4 & 3.45660 &  9.5228 & -4.0112 & -3.59440 & 0\\\\\n",
       "\t5 & 0.32924 & -4.4552 &  4.5718 & -0.98880 & 0\\\\\n",
       "\t6 & 4.36840 &  9.6718 & -3.9606 & -3.16250 & 0\\\\\n",
       "\\end{tabular}\n"
      ],
      "text/markdown": [
       "\n",
       "A data.frame: 6 × 5\n",
       "\n",
       "| <!--/--> | Image.Var &lt;dbl&gt; | Image.Skew &lt;dbl&gt; | Image.Curt &lt;dbl&gt; | Entropy &lt;dbl&gt; | Class &lt;int&gt; |\n",
       "|---|---|---|---|---|---|\n",
       "| 1 | 3.62160 |  8.6661 | -2.8073 | -0.44699 | 0 |\n",
       "| 2 | 4.54590 |  8.1674 | -2.4586 | -1.46210 | 0 |\n",
       "| 3 | 3.86600 | -2.6383 |  1.9242 |  0.10645 | 0 |\n",
       "| 4 | 3.45660 |  9.5228 | -4.0112 | -3.59440 | 0 |\n",
       "| 5 | 0.32924 | -4.4552 |  4.5718 | -0.98880 | 0 |\n",
       "| 6 | 4.36840 |  9.6718 | -3.9606 | -3.16250 | 0 |\n",
       "\n"
      ],
      "text/plain": [
       "  Image.Var Image.Skew Image.Curt Entropy  Class\n",
       "1 3.62160    8.6661    -2.8073    -0.44699 0    \n",
       "2 4.54590    8.1674    -2.4586    -1.46210 0    \n",
       "3 3.86600   -2.6383     1.9242     0.10645 0    \n",
       "4 3.45660    9.5228    -4.0112    -3.59440 0    \n",
       "5 0.32924   -4.4552     4.5718    -0.98880 0    \n",
       "6 4.36840    9.6718    -3.9606    -3.16250 0    "
      ]
     },
     "metadata": {},
     "output_type": "display_data"
    }
   ],
   "source": [
    "head(df)"
   ]
  },
  {
   "cell_type": "code",
   "execution_count": 3,
   "metadata": {},
   "outputs": [],
   "source": [
    "library(caTools)"
   ]
  },
  {
   "cell_type": "code",
   "execution_count": 4,
   "metadata": {},
   "outputs": [],
   "source": [
    "set.seed(101)"
   ]
  },
  {
   "cell_type": "code",
   "execution_count": 5,
   "metadata": {},
   "outputs": [],
   "source": [
    "split <- sample.split(df$Class,SplitRatio = 0.70)"
   ]
  },
  {
   "cell_type": "code",
   "execution_count": 6,
   "metadata": {},
   "outputs": [],
   "source": [
    "train = subset(df,split==T)\n",
    "test = subset(df,split==F)"
   ]
  },
  {
   "cell_type": "code",
   "execution_count": 7,
   "metadata": {},
   "outputs": [],
   "source": [
    "library(neuralnet)"
   ]
  },
  {
   "cell_type": "code",
   "execution_count": 13,
   "metadata": {},
   "outputs": [],
   "source": [
    "nn <- neuralnet(Class ~ Image.Var+Image.Skew+Image.Curt+Entropy,data = train,hidden = c(5,3),linear.output = F)"
   ]
  },
  {
   "cell_type": "code",
   "execution_count": 14,
   "metadata": {},
   "outputs": [],
   "source": [
    "preds <- compute(nn,test[1:4])"
   ]
  },
  {
   "cell_type": "code",
   "execution_count": 16,
   "metadata": {},
   "outputs": [
    {
     "data": {
      "text/html": [
       "<table class=\"dataframe\">\n",
       "<caption>A matrix: 6 × 1 of type dbl</caption>\n",
       "<tbody>\n",
       "\t<tr><th scope=row>3</th><td>0.0005380758</td></tr>\n",
       "\t<tr><th scope=row>11</th><td>0.0006229697</td></tr>\n",
       "\t<tr><th scope=row>12</th><td>0.0005181260</td></tr>\n",
       "\t<tr><th scope=row>13</th><td>0.0005619537</td></tr>\n",
       "\t<tr><th scope=row>14</th><td>0.0005769125</td></tr>\n",
       "\t<tr><th scope=row>17</th><td>0.0005184268</td></tr>\n",
       "</tbody>\n",
       "</table>\n"
      ],
      "text/latex": [
       "A matrix: 6 × 1 of type dbl\n",
       "\\begin{tabular}{r|l}\n",
       "\t3 & 0.0005380758\\\\\n",
       "\t11 & 0.0006229697\\\\\n",
       "\t12 & 0.0005181260\\\\\n",
       "\t13 & 0.0005619537\\\\\n",
       "\t14 & 0.0005769125\\\\\n",
       "\t17 & 0.0005184268\\\\\n",
       "\\end{tabular}\n"
      ],
      "text/markdown": [
       "\n",
       "A matrix: 6 × 1 of type dbl\n",
       "\n",
       "| 3 | 0.0005380758 |\n",
       "| 11 | 0.0006229697 |\n",
       "| 12 | 0.0005181260 |\n",
       "| 13 | 0.0005619537 |\n",
       "| 14 | 0.0005769125 |\n",
       "| 17 | 0.0005184268 |\n",
       "\n"
      ],
      "text/plain": [
       "   [,1]        \n",
       "3  0.0005380758\n",
       "11 0.0006229697\n",
       "12 0.0005181260\n",
       "13 0.0005619537\n",
       "14 0.0005769125\n",
       "17 0.0005184268"
      ]
     },
     "metadata": {},
     "output_type": "display_data"
    }
   ],
   "source": [
    "head(preds$net.result)"
   ]
  },
  {
   "cell_type": "code",
   "execution_count": 17,
   "metadata": {},
   "outputs": [],
   "source": [
    "predictions <- sapply(preds$net.result,round)"
   ]
  },
  {
   "cell_type": "code",
   "execution_count": 19,
   "metadata": {},
   "outputs": [
    {
     "data": {
      "text/html": [
       "<style>\n",
       ".list-inline {list-style: none; margin:0; padding: 0}\n",
       ".list-inline>li {display: inline-block}\n",
       ".list-inline>li:not(:last-child)::after {content: \"\\00b7\"; padding: 0 .5ex}\n",
       "</style>\n",
       "<ol class=list-inline><li>0</li><li>0</li><li>0</li><li>0</li><li>0</li><li>0</li></ol>\n"
      ],
      "text/latex": [
       "\\begin{enumerate*}\n",
       "\\item 0\n",
       "\\item 0\n",
       "\\item 0\n",
       "\\item 0\n",
       "\\item 0\n",
       "\\item 0\n",
       "\\end{enumerate*}\n"
      ],
      "text/markdown": [
       "1. 0\n",
       "2. 0\n",
       "3. 0\n",
       "4. 0\n",
       "5. 0\n",
       "6. 0\n",
       "\n",
       "\n"
      ],
      "text/plain": [
       "[1] 0 0 0 0 0 0"
      ]
     },
     "metadata": {},
     "output_type": "display_data"
    }
   ],
   "source": [
    "head(predictions)"
   ]
  },
  {
   "cell_type": "code",
   "execution_count": 20,
   "metadata": {},
   "outputs": [
    {
     "data": {
      "text/plain": [
       "   predictions\n",
       "      0   1\n",
       "  0 229   0\n",
       "  1   0 183"
      ]
     },
     "metadata": {},
     "output_type": "display_data"
    }
   ],
   "source": [
    "table(test$Class,predictions)"
   ]
  },
  {
   "cell_type": "code",
   "execution_count": 21,
   "metadata": {},
   "outputs": [
    {
     "name": "stderr",
     "output_type": "stream",
     "text": [
      "randomForest 4.6-14\n",
      "\n",
      "Type rfNews() to see new features/changes/bug fixes.\n",
      "\n"
     ]
    }
   ],
   "source": [
    "library(randomForest)"
   ]
  },
  {
   "cell_type": "code",
   "execution_count": 25,
   "metadata": {},
   "outputs": [],
   "source": [
    "df$Class <- factor(df$Class)\n",
    "library(caTools)\n",
    "set.seed(101)\n",
    "split = sample.split(df$Class, SplitRatio = 0.70)\n",
    "\n",
    "train = subset(df, split == TRUE)\n",
    "test = subset(df, split == FALSE)"
   ]
  },
  {
   "cell_type": "code",
   "execution_count": 26,
   "metadata": {},
   "outputs": [],
   "source": [
    "model <- randomForest(Class ~ Image.Var + Image.Skew + Image.Curt + Entropy,data=train)"
   ]
  },
  {
   "cell_type": "code",
   "execution_count": 27,
   "metadata": {},
   "outputs": [],
   "source": [
    "rf.pred <- predict(model,test)"
   ]
  },
  {
   "cell_type": "code",
   "execution_count": 28,
   "metadata": {},
   "outputs": [
    {
     "data": {
      "text/plain": [
       "       \n",
       "rf.pred   0   1\n",
       "      0 227   1\n",
       "      1   2 182"
      ]
     },
     "metadata": {},
     "output_type": "display_data"
    }
   ],
   "source": [
    "table(rf.pred,test$Class)"
   ]
  },
  {
   "cell_type": "code",
   "execution_count": null,
   "metadata": {},
   "outputs": [],
   "source": []
  }
 ],
 "metadata": {
  "kernelspec": {
   "display_name": "R",
   "language": "R",
   "name": "ir"
  },
  "language_info": {
   "codemirror_mode": "r",
   "file_extension": ".r",
   "mimetype": "text/x-r-source",
   "name": "R",
   "pygments_lexer": "r",
   "version": "4.0.4"
  }
 },
 "nbformat": 4,
 "nbformat_minor": 2
}
