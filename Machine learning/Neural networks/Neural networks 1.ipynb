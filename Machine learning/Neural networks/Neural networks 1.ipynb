{
 "cells": [
  {
   "cell_type": "code",
   "execution_count": 1,
   "metadata": {},
   "outputs": [],
   "source": [
    "#install.packages(\"MASS\")\n",
    "library(MASS)"
   ]
  },
  {
   "cell_type": "code",
   "execution_count": 2,
   "metadata": {},
   "outputs": [
    {
     "data": {
      "text/html": [
       "<table class=\"dataframe\">\n",
       "<caption>A data.frame: 6 × 14</caption>\n",
       "<thead>\n",
       "\t<tr><th></th><th scope=col>crim</th><th scope=col>zn</th><th scope=col>indus</th><th scope=col>chas</th><th scope=col>nox</th><th scope=col>rm</th><th scope=col>age</th><th scope=col>dis</th><th scope=col>rad</th><th scope=col>tax</th><th scope=col>ptratio</th><th scope=col>black</th><th scope=col>lstat</th><th scope=col>medv</th></tr>\n",
       "\t<tr><th></th><th scope=col>&lt;dbl&gt;</th><th scope=col>&lt;dbl&gt;</th><th scope=col>&lt;dbl&gt;</th><th scope=col>&lt;int&gt;</th><th scope=col>&lt;dbl&gt;</th><th scope=col>&lt;dbl&gt;</th><th scope=col>&lt;dbl&gt;</th><th scope=col>&lt;dbl&gt;</th><th scope=col>&lt;int&gt;</th><th scope=col>&lt;dbl&gt;</th><th scope=col>&lt;dbl&gt;</th><th scope=col>&lt;dbl&gt;</th><th scope=col>&lt;dbl&gt;</th><th scope=col>&lt;dbl&gt;</th></tr>\n",
       "</thead>\n",
       "<tbody>\n",
       "\t<tr><th scope=row>1</th><td>0.00632</td><td>18</td><td>2.31</td><td>0</td><td>0.538</td><td>6.575</td><td>65.2</td><td>4.0900</td><td>1</td><td>296</td><td>15.3</td><td>396.90</td><td>4.98</td><td>24.0</td></tr>\n",
       "\t<tr><th scope=row>2</th><td>0.02731</td><td> 0</td><td>7.07</td><td>0</td><td>0.469</td><td>6.421</td><td>78.9</td><td>4.9671</td><td>2</td><td>242</td><td>17.8</td><td>396.90</td><td>9.14</td><td>21.6</td></tr>\n",
       "\t<tr><th scope=row>3</th><td>0.02729</td><td> 0</td><td>7.07</td><td>0</td><td>0.469</td><td>7.185</td><td>61.1</td><td>4.9671</td><td>2</td><td>242</td><td>17.8</td><td>392.83</td><td>4.03</td><td>34.7</td></tr>\n",
       "\t<tr><th scope=row>4</th><td>0.03237</td><td> 0</td><td>2.18</td><td>0</td><td>0.458</td><td>6.998</td><td>45.8</td><td>6.0622</td><td>3</td><td>222</td><td>18.7</td><td>394.63</td><td>2.94</td><td>33.4</td></tr>\n",
       "\t<tr><th scope=row>5</th><td>0.06905</td><td> 0</td><td>2.18</td><td>0</td><td>0.458</td><td>7.147</td><td>54.2</td><td>6.0622</td><td>3</td><td>222</td><td>18.7</td><td>396.90</td><td>5.33</td><td>36.2</td></tr>\n",
       "\t<tr><th scope=row>6</th><td>0.02985</td><td> 0</td><td>2.18</td><td>0</td><td>0.458</td><td>6.430</td><td>58.7</td><td>6.0622</td><td>3</td><td>222</td><td>18.7</td><td>394.12</td><td>5.21</td><td>28.7</td></tr>\n",
       "</tbody>\n",
       "</table>\n"
      ],
      "text/latex": [
       "A data.frame: 6 × 14\n",
       "\\begin{tabular}{r|llllllllllllll}\n",
       "  & crim & zn & indus & chas & nox & rm & age & dis & rad & tax & ptratio & black & lstat & medv\\\\\n",
       "  & <dbl> & <dbl> & <dbl> & <int> & <dbl> & <dbl> & <dbl> & <dbl> & <int> & <dbl> & <dbl> & <dbl> & <dbl> & <dbl>\\\\\n",
       "\\hline\n",
       "\t1 & 0.00632 & 18 & 2.31 & 0 & 0.538 & 6.575 & 65.2 & 4.0900 & 1 & 296 & 15.3 & 396.90 & 4.98 & 24.0\\\\\n",
       "\t2 & 0.02731 &  0 & 7.07 & 0 & 0.469 & 6.421 & 78.9 & 4.9671 & 2 & 242 & 17.8 & 396.90 & 9.14 & 21.6\\\\\n",
       "\t3 & 0.02729 &  0 & 7.07 & 0 & 0.469 & 7.185 & 61.1 & 4.9671 & 2 & 242 & 17.8 & 392.83 & 4.03 & 34.7\\\\\n",
       "\t4 & 0.03237 &  0 & 2.18 & 0 & 0.458 & 6.998 & 45.8 & 6.0622 & 3 & 222 & 18.7 & 394.63 & 2.94 & 33.4\\\\\n",
       "\t5 & 0.06905 &  0 & 2.18 & 0 & 0.458 & 7.147 & 54.2 & 6.0622 & 3 & 222 & 18.7 & 396.90 & 5.33 & 36.2\\\\\n",
       "\t6 & 0.02985 &  0 & 2.18 & 0 & 0.458 & 6.430 & 58.7 & 6.0622 & 3 & 222 & 18.7 & 394.12 & 5.21 & 28.7\\\\\n",
       "\\end{tabular}\n"
      ],
      "text/markdown": [
       "\n",
       "A data.frame: 6 × 14\n",
       "\n",
       "| <!--/--> | crim &lt;dbl&gt; | zn &lt;dbl&gt; | indus &lt;dbl&gt; | chas &lt;int&gt; | nox &lt;dbl&gt; | rm &lt;dbl&gt; | age &lt;dbl&gt; | dis &lt;dbl&gt; | rad &lt;int&gt; | tax &lt;dbl&gt; | ptratio &lt;dbl&gt; | black &lt;dbl&gt; | lstat &lt;dbl&gt; | medv &lt;dbl&gt; |\n",
       "|---|---|---|---|---|---|---|---|---|---|---|---|---|---|---|\n",
       "| 1 | 0.00632 | 18 | 2.31 | 0 | 0.538 | 6.575 | 65.2 | 4.0900 | 1 | 296 | 15.3 | 396.90 | 4.98 | 24.0 |\n",
       "| 2 | 0.02731 |  0 | 7.07 | 0 | 0.469 | 6.421 | 78.9 | 4.9671 | 2 | 242 | 17.8 | 396.90 | 9.14 | 21.6 |\n",
       "| 3 | 0.02729 |  0 | 7.07 | 0 | 0.469 | 7.185 | 61.1 | 4.9671 | 2 | 242 | 17.8 | 392.83 | 4.03 | 34.7 |\n",
       "| 4 | 0.03237 |  0 | 2.18 | 0 | 0.458 | 6.998 | 45.8 | 6.0622 | 3 | 222 | 18.7 | 394.63 | 2.94 | 33.4 |\n",
       "| 5 | 0.06905 |  0 | 2.18 | 0 | 0.458 | 7.147 | 54.2 | 6.0622 | 3 | 222 | 18.7 | 396.90 | 5.33 | 36.2 |\n",
       "| 6 | 0.02985 |  0 | 2.18 | 0 | 0.458 | 6.430 | 58.7 | 6.0622 | 3 | 222 | 18.7 | 394.12 | 5.21 | 28.7 |\n",
       "\n"
      ],
      "text/plain": [
       "  crim    zn indus chas nox   rm    age  dis    rad tax ptratio black  lstat\n",
       "1 0.00632 18 2.31  0    0.538 6.575 65.2 4.0900 1   296 15.3    396.90 4.98 \n",
       "2 0.02731  0 7.07  0    0.469 6.421 78.9 4.9671 2   242 17.8    396.90 9.14 \n",
       "3 0.02729  0 7.07  0    0.469 7.185 61.1 4.9671 2   242 17.8    392.83 4.03 \n",
       "4 0.03237  0 2.18  0    0.458 6.998 45.8 6.0622 3   222 18.7    394.63 2.94 \n",
       "5 0.06905  0 2.18  0    0.458 7.147 54.2 6.0622 3   222 18.7    396.90 5.33 \n",
       "6 0.02985  0 2.18  0    0.458 6.430 58.7 6.0622 3   222 18.7    394.12 5.21 \n",
       "  medv\n",
       "1 24.0\n",
       "2 21.6\n",
       "3 34.7\n",
       "4 33.4\n",
       "5 36.2\n",
       "6 28.7"
      ]
     },
     "metadata": {},
     "output_type": "display_data"
    }
   ],
   "source": [
    "head(Boston)"
   ]
  },
  {
   "cell_type": "code",
   "execution_count": 3,
   "metadata": {},
   "outputs": [
    {
     "name": "stdout",
     "output_type": "stream",
     "text": [
      "'data.frame':\t506 obs. of  14 variables:\n",
      " $ crim   : num  0.00632 0.02731 0.02729 0.03237 0.06905 ...\n",
      " $ zn     : num  18 0 0 0 0 0 12.5 12.5 12.5 12.5 ...\n",
      " $ indus  : num  2.31 7.07 7.07 2.18 2.18 2.18 7.87 7.87 7.87 7.87 ...\n",
      " $ chas   : int  0 0 0 0 0 0 0 0 0 0 ...\n",
      " $ nox    : num  0.538 0.469 0.469 0.458 0.458 0.458 0.524 0.524 0.524 0.524 ...\n",
      " $ rm     : num  6.58 6.42 7.18 7 7.15 ...\n",
      " $ age    : num  65.2 78.9 61.1 45.8 54.2 58.7 66.6 96.1 100 85.9 ...\n",
      " $ dis    : num  4.09 4.97 4.97 6.06 6.06 ...\n",
      " $ rad    : int  1 2 2 3 3 3 5 5 5 5 ...\n",
      " $ tax    : num  296 242 242 222 222 222 311 311 311 311 ...\n",
      " $ ptratio: num  15.3 17.8 17.8 18.7 18.7 18.7 15.2 15.2 15.2 15.2 ...\n",
      " $ black  : num  397 397 393 395 397 ...\n",
      " $ lstat  : num  4.98 9.14 4.03 2.94 5.33 ...\n",
      " $ medv   : num  24 21.6 34.7 33.4 36.2 28.7 22.9 27.1 16.5 18.9 ...\n"
     ]
    }
   ],
   "source": [
    "str(Boston)"
   ]
  },
  {
   "cell_type": "code",
   "execution_count": 4,
   "metadata": {},
   "outputs": [],
   "source": [
    "data <- Boston"
   ]
  },
  {
   "cell_type": "code",
   "execution_count": 5,
   "metadata": {},
   "outputs": [
    {
     "data": {
      "text/html": [
       "FALSE"
      ],
      "text/latex": [
       "FALSE"
      ],
      "text/markdown": [
       "FALSE"
      ],
      "text/plain": [
       "[1] FALSE"
      ]
     },
     "metadata": {},
     "output_type": "display_data"
    }
   ],
   "source": [
    "any(is.na(data))"
   ]
  },
  {
   "cell_type": "code",
   "execution_count": 6,
   "metadata": {},
   "outputs": [],
   "source": [
    "#install.packages('neuralnet',repos = 'http://cran.us.r-project.org')\n",
    "library(neuralnet)"
   ]
  },
  {
   "cell_type": "code",
   "execution_count": 7,
   "metadata": {},
   "outputs": [],
   "source": [
    "maxs <- apply(data,2,max)\n",
    "mins <- apply(data,2,min)"
   ]
  },
  {
   "cell_type": "code",
   "execution_count": 8,
   "metadata": {},
   "outputs": [
    {
     "data": {
      "text/html": [
       "<style>\n",
       ".dl-inline {width: auto; margin:0; padding: 0}\n",
       ".dl-inline>dt, .dl-inline>dd {float: none; width: auto; display: inline-block}\n",
       ".dl-inline>dt::after {content: \":\\0020\"; padding-right: .5ex}\n",
       ".dl-inline>dt:not(:first-of-type) {padding-left: .5ex}\n",
       "</style><dl class=dl-inline><dt>crim</dt><dd>88.9762</dd><dt>zn</dt><dd>100</dd><dt>indus</dt><dd>27.74</dd><dt>chas</dt><dd>1</dd><dt>nox</dt><dd>0.871</dd><dt>rm</dt><dd>8.78</dd><dt>age</dt><dd>100</dd><dt>dis</dt><dd>12.1265</dd><dt>rad</dt><dd>24</dd><dt>tax</dt><dd>711</dd><dt>ptratio</dt><dd>22</dd><dt>black</dt><dd>396.9</dd><dt>lstat</dt><dd>37.97</dd><dt>medv</dt><dd>50</dd></dl>\n"
      ],
      "text/latex": [
       "\\begin{description*}\n",
       "\\item[crim] 88.9762\n",
       "\\item[zn] 100\n",
       "\\item[indus] 27.74\n",
       "\\item[chas] 1\n",
       "\\item[nox] 0.871\n",
       "\\item[rm] 8.78\n",
       "\\item[age] 100\n",
       "\\item[dis] 12.1265\n",
       "\\item[rad] 24\n",
       "\\item[tax] 711\n",
       "\\item[ptratio] 22\n",
       "\\item[black] 396.9\n",
       "\\item[lstat] 37.97\n",
       "\\item[medv] 50\n",
       "\\end{description*}\n"
      ],
      "text/markdown": [
       "crim\n",
       ":   88.9762zn\n",
       ":   100indus\n",
       ":   27.74chas\n",
       ":   1nox\n",
       ":   0.871rm\n",
       ":   8.78age\n",
       ":   100dis\n",
       ":   12.1265rad\n",
       ":   24tax\n",
       ":   711ptratio\n",
       ":   22black\n",
       ":   396.9lstat\n",
       ":   37.97medv\n",
       ":   50\n",
       "\n"
      ],
      "text/plain": [
       "    crim       zn    indus     chas      nox       rm      age      dis \n",
       " 88.9762 100.0000  27.7400   1.0000   0.8710   8.7800 100.0000  12.1265 \n",
       "     rad      tax  ptratio    black    lstat     medv \n",
       " 24.0000 711.0000  22.0000 396.9000  37.9700  50.0000 "
      ]
     },
     "metadata": {},
     "output_type": "display_data"
    }
   ],
   "source": [
    "maxs"
   ]
  },
  {
   "cell_type": "code",
   "execution_count": 9,
   "metadata": {},
   "outputs": [
    {
     "data": {
      "text/html": [
       "<style>\n",
       ".dl-inline {width: auto; margin:0; padding: 0}\n",
       ".dl-inline>dt, .dl-inline>dd {float: none; width: auto; display: inline-block}\n",
       ".dl-inline>dt::after {content: \":\\0020\"; padding-right: .5ex}\n",
       ".dl-inline>dt:not(:first-of-type) {padding-left: .5ex}\n",
       "</style><dl class=dl-inline><dt>crim</dt><dd>0.00632</dd><dt>zn</dt><dd>0</dd><dt>indus</dt><dd>0.46</dd><dt>chas</dt><dd>0</dd><dt>nox</dt><dd>0.385</dd><dt>rm</dt><dd>3.561</dd><dt>age</dt><dd>2.9</dd><dt>dis</dt><dd>1.1296</dd><dt>rad</dt><dd>1</dd><dt>tax</dt><dd>187</dd><dt>ptratio</dt><dd>12.6</dd><dt>black</dt><dd>0.32</dd><dt>lstat</dt><dd>1.73</dd><dt>medv</dt><dd>5</dd></dl>\n"
      ],
      "text/latex": [
       "\\begin{description*}\n",
       "\\item[crim] 0.00632\n",
       "\\item[zn] 0\n",
       "\\item[indus] 0.46\n",
       "\\item[chas] 0\n",
       "\\item[nox] 0.385\n",
       "\\item[rm] 3.561\n",
       "\\item[age] 2.9\n",
       "\\item[dis] 1.1296\n",
       "\\item[rad] 1\n",
       "\\item[tax] 187\n",
       "\\item[ptratio] 12.6\n",
       "\\item[black] 0.32\n",
       "\\item[lstat] 1.73\n",
       "\\item[medv] 5\n",
       "\\end{description*}\n"
      ],
      "text/markdown": [
       "crim\n",
       ":   0.00632zn\n",
       ":   0indus\n",
       ":   0.46chas\n",
       ":   0nox\n",
       ":   0.385rm\n",
       ":   3.561age\n",
       ":   2.9dis\n",
       ":   1.1296rad\n",
       ":   1tax\n",
       ":   187ptratio\n",
       ":   12.6black\n",
       ":   0.32lstat\n",
       ":   1.73medv\n",
       ":   5\n",
       "\n"
      ],
      "text/plain": [
       "     crim        zn     indus      chas       nox        rm       age       dis \n",
       "  0.00632   0.00000   0.46000   0.00000   0.38500   3.56100   2.90000   1.12960 \n",
       "      rad       tax   ptratio     black     lstat      medv \n",
       "  1.00000 187.00000  12.60000   0.32000   1.73000   5.00000 "
      ]
     },
     "metadata": {},
     "output_type": "display_data"
    }
   ],
   "source": [
    "mins"
   ]
  },
  {
   "cell_type": "code",
   "execution_count": 10,
   "metadata": {},
   "outputs": [],
   "source": [
    "scaled <- as.data.frame(scale(data,center = mins,scale = maxs-mins))"
   ]
  },
  {
   "cell_type": "code",
   "execution_count": 11,
   "metadata": {},
   "outputs": [
    {
     "data": {
      "text/html": [
       "<table class=\"dataframe\">\n",
       "<caption>A data.frame: 6 × 14</caption>\n",
       "<thead>\n",
       "\t<tr><th></th><th scope=col>crim</th><th scope=col>zn</th><th scope=col>indus</th><th scope=col>chas</th><th scope=col>nox</th><th scope=col>rm</th><th scope=col>age</th><th scope=col>dis</th><th scope=col>rad</th><th scope=col>tax</th><th scope=col>ptratio</th><th scope=col>black</th><th scope=col>lstat</th><th scope=col>medv</th></tr>\n",
       "\t<tr><th></th><th scope=col>&lt;dbl&gt;</th><th scope=col>&lt;dbl&gt;</th><th scope=col>&lt;dbl&gt;</th><th scope=col>&lt;dbl&gt;</th><th scope=col>&lt;dbl&gt;</th><th scope=col>&lt;dbl&gt;</th><th scope=col>&lt;dbl&gt;</th><th scope=col>&lt;dbl&gt;</th><th scope=col>&lt;dbl&gt;</th><th scope=col>&lt;dbl&gt;</th><th scope=col>&lt;dbl&gt;</th><th scope=col>&lt;dbl&gt;</th><th scope=col>&lt;dbl&gt;</th><th scope=col>&lt;dbl&gt;</th></tr>\n",
       "</thead>\n",
       "<tbody>\n",
       "\t<tr><th scope=row>1</th><td>0.0000000000</td><td>0.18</td><td>0.06781525</td><td>0</td><td>0.3148148</td><td>0.5775053</td><td>0.6416066</td><td>0.2692031</td><td>0.00000000</td><td>0.20801527</td><td>0.2872340</td><td>1.0000000</td><td>0.08967991</td><td>0.4222222</td></tr>\n",
       "\t<tr><th scope=row>2</th><td>0.0002359225</td><td>0.00</td><td>0.24230205</td><td>0</td><td>0.1728395</td><td>0.5479977</td><td>0.7826982</td><td>0.3489620</td><td>0.04347826</td><td>0.10496183</td><td>0.5531915</td><td>1.0000000</td><td>0.20447020</td><td>0.3688889</td></tr>\n",
       "\t<tr><th scope=row>3</th><td>0.0002356977</td><td>0.00</td><td>0.24230205</td><td>0</td><td>0.1728395</td><td>0.6943859</td><td>0.5993821</td><td>0.3489620</td><td>0.04347826</td><td>0.10496183</td><td>0.5531915</td><td>0.9897373</td><td>0.06346578</td><td>0.6600000</td></tr>\n",
       "\t<tr><th scope=row>4</th><td>0.0002927957</td><td>0.00</td><td>0.06304985</td><td>0</td><td>0.1502058</td><td>0.6585553</td><td>0.4418126</td><td>0.4485446</td><td>0.08695652</td><td>0.06679389</td><td>0.6489362</td><td>0.9942761</td><td>0.03338852</td><td>0.6311111</td></tr>\n",
       "\t<tr><th scope=row>5</th><td>0.0007050701</td><td>0.00</td><td>0.06304985</td><td>0</td><td>0.1502058</td><td>0.6871048</td><td>0.5283213</td><td>0.4485446</td><td>0.08695652</td><td>0.06679389</td><td>0.6489362</td><td>1.0000000</td><td>0.09933775</td><td>0.6933333</td></tr>\n",
       "\t<tr><th scope=row>6</th><td>0.0002644715</td><td>0.00</td><td>0.06304985</td><td>0</td><td>0.1502058</td><td>0.5497222</td><td>0.5746653</td><td>0.4485446</td><td>0.08695652</td><td>0.06679389</td><td>0.6489362</td><td>0.9929901</td><td>0.09602649</td><td>0.5266667</td></tr>\n",
       "</tbody>\n",
       "</table>\n"
      ],
      "text/latex": [
       "A data.frame: 6 × 14\n",
       "\\begin{tabular}{r|llllllllllllll}\n",
       "  & crim & zn & indus & chas & nox & rm & age & dis & rad & tax & ptratio & black & lstat & medv\\\\\n",
       "  & <dbl> & <dbl> & <dbl> & <dbl> & <dbl> & <dbl> & <dbl> & <dbl> & <dbl> & <dbl> & <dbl> & <dbl> & <dbl> & <dbl>\\\\\n",
       "\\hline\n",
       "\t1 & 0.0000000000 & 0.18 & 0.06781525 & 0 & 0.3148148 & 0.5775053 & 0.6416066 & 0.2692031 & 0.00000000 & 0.20801527 & 0.2872340 & 1.0000000 & 0.08967991 & 0.4222222\\\\\n",
       "\t2 & 0.0002359225 & 0.00 & 0.24230205 & 0 & 0.1728395 & 0.5479977 & 0.7826982 & 0.3489620 & 0.04347826 & 0.10496183 & 0.5531915 & 1.0000000 & 0.20447020 & 0.3688889\\\\\n",
       "\t3 & 0.0002356977 & 0.00 & 0.24230205 & 0 & 0.1728395 & 0.6943859 & 0.5993821 & 0.3489620 & 0.04347826 & 0.10496183 & 0.5531915 & 0.9897373 & 0.06346578 & 0.6600000\\\\\n",
       "\t4 & 0.0002927957 & 0.00 & 0.06304985 & 0 & 0.1502058 & 0.6585553 & 0.4418126 & 0.4485446 & 0.08695652 & 0.06679389 & 0.6489362 & 0.9942761 & 0.03338852 & 0.6311111\\\\\n",
       "\t5 & 0.0007050701 & 0.00 & 0.06304985 & 0 & 0.1502058 & 0.6871048 & 0.5283213 & 0.4485446 & 0.08695652 & 0.06679389 & 0.6489362 & 1.0000000 & 0.09933775 & 0.6933333\\\\\n",
       "\t6 & 0.0002644715 & 0.00 & 0.06304985 & 0 & 0.1502058 & 0.5497222 & 0.5746653 & 0.4485446 & 0.08695652 & 0.06679389 & 0.6489362 & 0.9929901 & 0.09602649 & 0.5266667\\\\\n",
       "\\end{tabular}\n"
      ],
      "text/markdown": [
       "\n",
       "A data.frame: 6 × 14\n",
       "\n",
       "| <!--/--> | crim &lt;dbl&gt; | zn &lt;dbl&gt; | indus &lt;dbl&gt; | chas &lt;dbl&gt; | nox &lt;dbl&gt; | rm &lt;dbl&gt; | age &lt;dbl&gt; | dis &lt;dbl&gt; | rad &lt;dbl&gt; | tax &lt;dbl&gt; | ptratio &lt;dbl&gt; | black &lt;dbl&gt; | lstat &lt;dbl&gt; | medv &lt;dbl&gt; |\n",
       "|---|---|---|---|---|---|---|---|---|---|---|---|---|---|---|\n",
       "| 1 | 0.0000000000 | 0.18 | 0.06781525 | 0 | 0.3148148 | 0.5775053 | 0.6416066 | 0.2692031 | 0.00000000 | 0.20801527 | 0.2872340 | 1.0000000 | 0.08967991 | 0.4222222 |\n",
       "| 2 | 0.0002359225 | 0.00 | 0.24230205 | 0 | 0.1728395 | 0.5479977 | 0.7826982 | 0.3489620 | 0.04347826 | 0.10496183 | 0.5531915 | 1.0000000 | 0.20447020 | 0.3688889 |\n",
       "| 3 | 0.0002356977 | 0.00 | 0.24230205 | 0 | 0.1728395 | 0.6943859 | 0.5993821 | 0.3489620 | 0.04347826 | 0.10496183 | 0.5531915 | 0.9897373 | 0.06346578 | 0.6600000 |\n",
       "| 4 | 0.0002927957 | 0.00 | 0.06304985 | 0 | 0.1502058 | 0.6585553 | 0.4418126 | 0.4485446 | 0.08695652 | 0.06679389 | 0.6489362 | 0.9942761 | 0.03338852 | 0.6311111 |\n",
       "| 5 | 0.0007050701 | 0.00 | 0.06304985 | 0 | 0.1502058 | 0.6871048 | 0.5283213 | 0.4485446 | 0.08695652 | 0.06679389 | 0.6489362 | 1.0000000 | 0.09933775 | 0.6933333 |\n",
       "| 6 | 0.0002644715 | 0.00 | 0.06304985 | 0 | 0.1502058 | 0.5497222 | 0.5746653 | 0.4485446 | 0.08695652 | 0.06679389 | 0.6489362 | 0.9929901 | 0.09602649 | 0.5266667 |\n",
       "\n"
      ],
      "text/plain": [
       "  crim         zn   indus      chas nox       rm        age       dis      \n",
       "1 0.0000000000 0.18 0.06781525 0    0.3148148 0.5775053 0.6416066 0.2692031\n",
       "2 0.0002359225 0.00 0.24230205 0    0.1728395 0.5479977 0.7826982 0.3489620\n",
       "3 0.0002356977 0.00 0.24230205 0    0.1728395 0.6943859 0.5993821 0.3489620\n",
       "4 0.0002927957 0.00 0.06304985 0    0.1502058 0.6585553 0.4418126 0.4485446\n",
       "5 0.0007050701 0.00 0.06304985 0    0.1502058 0.6871048 0.5283213 0.4485446\n",
       "6 0.0002644715 0.00 0.06304985 0    0.1502058 0.5497222 0.5746653 0.4485446\n",
       "  rad        tax        ptratio   black     lstat      medv     \n",
       "1 0.00000000 0.20801527 0.2872340 1.0000000 0.08967991 0.4222222\n",
       "2 0.04347826 0.10496183 0.5531915 1.0000000 0.20447020 0.3688889\n",
       "3 0.04347826 0.10496183 0.5531915 0.9897373 0.06346578 0.6600000\n",
       "4 0.08695652 0.06679389 0.6489362 0.9942761 0.03338852 0.6311111\n",
       "5 0.08695652 0.06679389 0.6489362 1.0000000 0.09933775 0.6933333\n",
       "6 0.08695652 0.06679389 0.6489362 0.9929901 0.09602649 0.5266667"
      ]
     },
     "metadata": {},
     "output_type": "display_data"
    }
   ],
   "source": [
    "head(scaled)"
   ]
  },
  {
   "cell_type": "code",
   "execution_count": 12,
   "metadata": {},
   "outputs": [],
   "source": [
    "library(caTools)\n",
    "split = sample.split(scaled$medv, SplitRatio = 0.70)\n",
    "\n",
    "train = subset(scaled, split == TRUE)\n",
    "test = subset(scaled, split == FALSE)"
   ]
  },
  {
   "cell_type": "code",
   "execution_count": 13,
   "metadata": {},
   "outputs": [
    {
     "data": {
      "text/html": [
       "<style>\n",
       ".list-inline {list-style: none; margin:0; padding: 0}\n",
       ".list-inline>li {display: inline-block}\n",
       ".list-inline>li:not(:last-child)::after {content: \"\\00b7\"; padding: 0 .5ex}\n",
       "</style>\n",
       "<ol class=list-inline><li>'crim'</li><li>'zn'</li><li>'indus'</li><li>'chas'</li><li>'nox'</li><li>'rm'</li><li>'age'</li><li>'dis'</li><li>'rad'</li><li>'tax'</li><li>'ptratio'</li><li>'black'</li><li>'lstat'</li><li>'medv'</li></ol>\n"
      ],
      "text/latex": [
       "\\begin{enumerate*}\n",
       "\\item 'crim'\n",
       "\\item 'zn'\n",
       "\\item 'indus'\n",
       "\\item 'chas'\n",
       "\\item 'nox'\n",
       "\\item 'rm'\n",
       "\\item 'age'\n",
       "\\item 'dis'\n",
       "\\item 'rad'\n",
       "\\item 'tax'\n",
       "\\item 'ptratio'\n",
       "\\item 'black'\n",
       "\\item 'lstat'\n",
       "\\item 'medv'\n",
       "\\end{enumerate*}\n"
      ],
      "text/markdown": [
       "1. 'crim'\n",
       "2. 'zn'\n",
       "3. 'indus'\n",
       "4. 'chas'\n",
       "5. 'nox'\n",
       "6. 'rm'\n",
       "7. 'age'\n",
       "8. 'dis'\n",
       "9. 'rad'\n",
       "10. 'tax'\n",
       "11. 'ptratio'\n",
       "12. 'black'\n",
       "13. 'lstat'\n",
       "14. 'medv'\n",
       "\n",
       "\n"
      ],
      "text/plain": [
       " [1] \"crim\"    \"zn\"      \"indus\"   \"chas\"    \"nox\"     \"rm\"      \"age\"    \n",
       " [8] \"dis\"     \"rad\"     \"tax\"     \"ptratio\" \"black\"   \"lstat\"   \"medv\"   "
      ]
     },
     "metadata": {},
     "output_type": "display_data"
    }
   ],
   "source": [
    "n <- names(train)\n",
    "n"
   ]
  },
  {
   "cell_type": "code",
   "execution_count": 14,
   "metadata": {},
   "outputs": [],
   "source": [
    "f <- as.formula(paste(\"medv ~\", paste(n[!n %in% \"medv\"], collapse = \" + \")))"
   ]
  },
  {
   "cell_type": "code",
   "execution_count": 15,
   "metadata": {},
   "outputs": [
    {
     "data": {
      "text/plain": [
       "medv ~ crim + zn + indus + chas + nox + rm + age + dis + rad + \n",
       "    tax + ptratio + black + lstat"
      ]
     },
     "metadata": {},
     "output_type": "display_data"
    }
   ],
   "source": [
    "f"
   ]
  },
  {
   "cell_type": "code",
   "execution_count": 16,
   "metadata": {},
   "outputs": [],
   "source": [
    "nn <- neuralnet(f,data=train,hidden=c(5,3),linear.output = T)"
   ]
  },
  {
   "cell_type": "code",
   "execution_count": 17,
   "metadata": {},
   "outputs": [],
   "source": [
    "plot(nn)"
   ]
  },
  {
   "cell_type": "code",
   "execution_count": 18,
   "metadata": {},
   "outputs": [],
   "source": [
    "predicted.nn.values <- compute(nn,test[1:13])"
   ]
  },
  {
   "cell_type": "code",
   "execution_count": 19,
   "metadata": {},
   "outputs": [],
   "source": [
    "true.predictions <- predicted.nn.values$net.result*(max(data$medv)-min(data$medv))+min(data$medv)"
   ]
  },
  {
   "cell_type": "code",
   "execution_count": 20,
   "metadata": {},
   "outputs": [],
   "source": [
    "test.r <- (test$medv)*(max(data$medv)-min(data$medv))+min(data$medv)"
   ]
  },
  {
   "cell_type": "code",
   "execution_count": 21,
   "metadata": {},
   "outputs": [],
   "source": [
    "MSE.nn <- sum((test.r - true.predictions)^2)/nrow(test)"
   ]
  },
  {
   "cell_type": "code",
   "execution_count": 22,
   "metadata": {},
   "outputs": [
    {
     "data": {
      "text/html": [
       "30.1456532272511"
      ],
      "text/latex": [
       "30.1456532272511"
      ],
      "text/markdown": [
       "30.1456532272511"
      ],
      "text/plain": [
       "[1] 30.14565"
      ]
     },
     "metadata": {},
     "output_type": "display_data"
    }
   ],
   "source": [
    "MSE.nn"
   ]
  },
  {
   "cell_type": "code",
   "execution_count": 23,
   "metadata": {},
   "outputs": [],
   "source": [
    "error.df <- data.frame(test.r,true.predictions)"
   ]
  },
  {
   "cell_type": "code",
   "execution_count": 24,
   "metadata": {},
   "outputs": [
    {
     "data": {
      "text/html": [
       "<table class=\"dataframe\">\n",
       "<caption>A data.frame: 139 × 2</caption>\n",
       "<thead>\n",
       "\t<tr><th></th><th scope=col>test.r</th><th scope=col>true.predictions</th></tr>\n",
       "\t<tr><th></th><th scope=col>&lt;dbl&gt;</th><th scope=col>&lt;dbl&gt;</th></tr>\n",
       "</thead>\n",
       "<tbody>\n",
       "\t<tr><th scope=row>2</th><td>21.6</td><td>22.72162</td></tr>\n",
       "\t<tr><th scope=row>6</th><td>28.7</td><td>24.46917</td></tr>\n",
       "\t<tr><th scope=row>10</th><td>18.9</td><td>21.46460</td></tr>\n",
       "\t<tr><th scope=row>11</th><td>15.0</td><td>22.03764</td></tr>\n",
       "\t<tr><th scope=row>14</th><td>20.4</td><td>19.83077</td></tr>\n",
       "\t<tr><th scope=row>16</th><td>19.9</td><td>19.54689</td></tr>\n",
       "\t<tr><th scope=row>19</th><td>20.2</td><td>19.93062</td></tr>\n",
       "\t<tr><th scope=row>23</th><td>15.2</td><td>14.38529</td></tr>\n",
       "\t<tr><th scope=row>27</th><td>16.6</td><td>16.18722</td></tr>\n",
       "\t<tr><th scope=row>30</th><td>21.0</td><td>20.18682</td></tr>\n",
       "\t<tr><th scope=row>44</th><td>24.7</td><td>22.70892</td></tr>\n",
       "\t<tr><th scope=row>45</th><td>21.2</td><td>21.74317</td></tr>\n",
       "\t<tr><th scope=row>51</th><td>19.7</td><td>21.43915</td></tr>\n",
       "\t<tr><th scope=row>59</th><td>23.3</td><td>21.77698</td></tr>\n",
       "\t<tr><th scope=row>63</th><td>22.2</td><td>23.19847</td></tr>\n",
       "\t<tr><th scope=row>64</th><td>25.0</td><td>24.47591</td></tr>\n",
       "\t<tr><th scope=row>67</th><td>19.4</td><td>20.88348</td></tr>\n",
       "\t<tr><th scope=row>68</th><td>22.0</td><td>19.85782</td></tr>\n",
       "\t<tr><th scope=row>74</th><td>23.4</td><td>23.38685</td></tr>\n",
       "\t<tr><th scope=row>77</th><td>20.0</td><td>19.73212</td></tr>\n",
       "\t<tr><th scope=row>78</th><td>20.8</td><td>21.22956</td></tr>\n",
       "\t<tr><th scope=row>95</th><td>20.6</td><td>20.28069</td></tr>\n",
       "\t<tr><th scope=row>96</th><td>28.4</td><td>27.08122</td></tr>\n",
       "\t<tr><th scope=row>100</th><td>33.2</td><td>34.24590</td></tr>\n",
       "\t<tr><th scope=row>101</th><td>27.5</td><td>22.31334</td></tr>\n",
       "\t<tr><th scope=row>103</th><td>18.6</td><td>14.67238</td></tr>\n",
       "\t<tr><th scope=row>107</th><td>19.5</td><td>21.59700</td></tr>\n",
       "\t<tr><th scope=row>112</th><td>22.8</td><td>21.09414</td></tr>\n",
       "\t<tr><th scope=row>114</th><td>18.7</td><td>17.86453</td></tr>\n",
       "\t<tr><th scope=row>123</th><td>20.5</td><td>19.88458</td></tr>\n",
       "\t<tr><th scope=row>...</th><td>...</td><td>...</td></tr>\n",
       "\t<tr><th scope=row>394</th><td>13.8</td><td>16.834311</td></tr>\n",
       "\t<tr><th scope=row>399</th><td> 5.0</td><td> 8.438841</td></tr>\n",
       "\t<tr><th scope=row>405</th><td> 8.5</td><td> 8.571663</td></tr>\n",
       "\t<tr><th scope=row>407</th><td>11.9</td><td>13.012027</td></tr>\n",
       "\t<tr><th scope=row>408</th><td>27.9</td><td>36.479043</td></tr>\n",
       "\t<tr><th scope=row>412</th><td>17.2</td><td>29.123956</td></tr>\n",
       "\t<tr><th scope=row>418</th><td>10.4</td><td> 9.884072</td></tr>\n",
       "\t<tr><th scope=row>420</th><td> 8.4</td><td>11.487151</td></tr>\n",
       "\t<tr><th scope=row>421</th><td>16.7</td><td>13.517759</td></tr>\n",
       "\t<tr><th scope=row>425</th><td>11.7</td><td>39.117866</td></tr>\n",
       "\t<tr><th scope=row>426</th><td> 8.3</td><td> 8.729106</td></tr>\n",
       "\t<tr><th scope=row>427</th><td>10.2</td><td>41.491116</td></tr>\n",
       "\t<tr><th scope=row>431</th><td>14.5</td><td>31.332295</td></tr>\n",
       "\t<tr><th scope=row>432</th><td>14.1</td><td>15.613156</td></tr>\n",
       "\t<tr><th scope=row>433</th><td>16.1</td><td>42.883978</td></tr>\n",
       "\t<tr><th scope=row>434</th><td>14.3</td><td>16.118257</td></tr>\n",
       "\t<tr><th scope=row>444</th><td>15.4</td><td>13.457782</td></tr>\n",
       "\t<tr><th scope=row>455</th><td>14.9</td><td>12.868971</td></tr>\n",
       "\t<tr><th scope=row>457</th><td>12.7</td><td>14.129419</td></tr>\n",
       "\t<tr><th scope=row>458</th><td>13.5</td><td>15.661019</td></tr>\n",
       "\t<tr><th scope=row>470</th><td>20.1</td><td>21.039439</td></tr>\n",
       "\t<tr><th scope=row>474</th><td>29.8</td><td>23.279015</td></tr>\n",
       "\t<tr><th scope=row>479</th><td>14.6</td><td>14.613528</td></tr>\n",
       "\t<tr><th scope=row>487</th><td>19.1</td><td>20.517533</td></tr>\n",
       "\t<tr><th scope=row>488</th><td>20.6</td><td>22.978604</td></tr>\n",
       "\t<tr><th scope=row>490</th><td> 7.0</td><td>13.552098</td></tr>\n",
       "\t<tr><th scope=row>492</th><td>13.6</td><td>17.862229</td></tr>\n",
       "\t<tr><th scope=row>494</th><td>21.8</td><td>20.822676</td></tr>\n",
       "\t<tr><th scope=row>498</th><td>18.3</td><td>18.295853</td></tr>\n",
       "\t<tr><th scope=row>500</th><td>17.5</td><td>18.483332</td></tr>\n",
       "</tbody>\n",
       "</table>\n"
      ],
      "text/latex": [
       "A data.frame: 139 × 2\n",
       "\\begin{tabular}{r|ll}\n",
       "  & test.r & true.predictions\\\\\n",
       "  & <dbl> & <dbl>\\\\\n",
       "\\hline\n",
       "\t2 & 21.6 & 22.72162\\\\\n",
       "\t6 & 28.7 & 24.46917\\\\\n",
       "\t10 & 18.9 & 21.46460\\\\\n",
       "\t11 & 15.0 & 22.03764\\\\\n",
       "\t14 & 20.4 & 19.83077\\\\\n",
       "\t16 & 19.9 & 19.54689\\\\\n",
       "\t19 & 20.2 & 19.93062\\\\\n",
       "\t23 & 15.2 & 14.38529\\\\\n",
       "\t27 & 16.6 & 16.18722\\\\\n",
       "\t30 & 21.0 & 20.18682\\\\\n",
       "\t44 & 24.7 & 22.70892\\\\\n",
       "\t45 & 21.2 & 21.74317\\\\\n",
       "\t51 & 19.7 & 21.43915\\\\\n",
       "\t59 & 23.3 & 21.77698\\\\\n",
       "\t63 & 22.2 & 23.19847\\\\\n",
       "\t64 & 25.0 & 24.47591\\\\\n",
       "\t67 & 19.4 & 20.88348\\\\\n",
       "\t68 & 22.0 & 19.85782\\\\\n",
       "\t74 & 23.4 & 23.38685\\\\\n",
       "\t77 & 20.0 & 19.73212\\\\\n",
       "\t78 & 20.8 & 21.22956\\\\\n",
       "\t95 & 20.6 & 20.28069\\\\\n",
       "\t96 & 28.4 & 27.08122\\\\\n",
       "\t100 & 33.2 & 34.24590\\\\\n",
       "\t101 & 27.5 & 22.31334\\\\\n",
       "\t103 & 18.6 & 14.67238\\\\\n",
       "\t107 & 19.5 & 21.59700\\\\\n",
       "\t112 & 22.8 & 21.09414\\\\\n",
       "\t114 & 18.7 & 17.86453\\\\\n",
       "\t123 & 20.5 & 19.88458\\\\\n",
       "\t... & ... & ...\\\\\n",
       "\t394 & 13.8 & 16.834311\\\\\n",
       "\t399 &  5.0 &  8.438841\\\\\n",
       "\t405 &  8.5 &  8.571663\\\\\n",
       "\t407 & 11.9 & 13.012027\\\\\n",
       "\t408 & 27.9 & 36.479043\\\\\n",
       "\t412 & 17.2 & 29.123956\\\\\n",
       "\t418 & 10.4 &  9.884072\\\\\n",
       "\t420 &  8.4 & 11.487151\\\\\n",
       "\t421 & 16.7 & 13.517759\\\\\n",
       "\t425 & 11.7 & 39.117866\\\\\n",
       "\t426 &  8.3 &  8.729106\\\\\n",
       "\t427 & 10.2 & 41.491116\\\\\n",
       "\t431 & 14.5 & 31.332295\\\\\n",
       "\t432 & 14.1 & 15.613156\\\\\n",
       "\t433 & 16.1 & 42.883978\\\\\n",
       "\t434 & 14.3 & 16.118257\\\\\n",
       "\t444 & 15.4 & 13.457782\\\\\n",
       "\t455 & 14.9 & 12.868971\\\\\n",
       "\t457 & 12.7 & 14.129419\\\\\n",
       "\t458 & 13.5 & 15.661019\\\\\n",
       "\t470 & 20.1 & 21.039439\\\\\n",
       "\t474 & 29.8 & 23.279015\\\\\n",
       "\t479 & 14.6 & 14.613528\\\\\n",
       "\t487 & 19.1 & 20.517533\\\\\n",
       "\t488 & 20.6 & 22.978604\\\\\n",
       "\t490 &  7.0 & 13.552098\\\\\n",
       "\t492 & 13.6 & 17.862229\\\\\n",
       "\t494 & 21.8 & 20.822676\\\\\n",
       "\t498 & 18.3 & 18.295853\\\\\n",
       "\t500 & 17.5 & 18.483332\\\\\n",
       "\\end{tabular}\n"
      ],
      "text/markdown": [
       "\n",
       "A data.frame: 139 × 2\n",
       "\n",
       "| <!--/--> | test.r &lt;dbl&gt; | true.predictions &lt;dbl&gt; |\n",
       "|---|---|---|\n",
       "| 2 | 21.6 | 22.72162 |\n",
       "| 6 | 28.7 | 24.46917 |\n",
       "| 10 | 18.9 | 21.46460 |\n",
       "| 11 | 15.0 | 22.03764 |\n",
       "| 14 | 20.4 | 19.83077 |\n",
       "| 16 | 19.9 | 19.54689 |\n",
       "| 19 | 20.2 | 19.93062 |\n",
       "| 23 | 15.2 | 14.38529 |\n",
       "| 27 | 16.6 | 16.18722 |\n",
       "| 30 | 21.0 | 20.18682 |\n",
       "| 44 | 24.7 | 22.70892 |\n",
       "| 45 | 21.2 | 21.74317 |\n",
       "| 51 | 19.7 | 21.43915 |\n",
       "| 59 | 23.3 | 21.77698 |\n",
       "| 63 | 22.2 | 23.19847 |\n",
       "| 64 | 25.0 | 24.47591 |\n",
       "| 67 | 19.4 | 20.88348 |\n",
       "| 68 | 22.0 | 19.85782 |\n",
       "| 74 | 23.4 | 23.38685 |\n",
       "| 77 | 20.0 | 19.73212 |\n",
       "| 78 | 20.8 | 21.22956 |\n",
       "| 95 | 20.6 | 20.28069 |\n",
       "| 96 | 28.4 | 27.08122 |\n",
       "| 100 | 33.2 | 34.24590 |\n",
       "| 101 | 27.5 | 22.31334 |\n",
       "| 103 | 18.6 | 14.67238 |\n",
       "| 107 | 19.5 | 21.59700 |\n",
       "| 112 | 22.8 | 21.09414 |\n",
       "| 114 | 18.7 | 17.86453 |\n",
       "| 123 | 20.5 | 19.88458 |\n",
       "| ... | ... | ... |\n",
       "| 394 | 13.8 | 16.834311 |\n",
       "| 399 |  5.0 |  8.438841 |\n",
       "| 405 |  8.5 |  8.571663 |\n",
       "| 407 | 11.9 | 13.012027 |\n",
       "| 408 | 27.9 | 36.479043 |\n",
       "| 412 | 17.2 | 29.123956 |\n",
       "| 418 | 10.4 |  9.884072 |\n",
       "| 420 |  8.4 | 11.487151 |\n",
       "| 421 | 16.7 | 13.517759 |\n",
       "| 425 | 11.7 | 39.117866 |\n",
       "| 426 |  8.3 |  8.729106 |\n",
       "| 427 | 10.2 | 41.491116 |\n",
       "| 431 | 14.5 | 31.332295 |\n",
       "| 432 | 14.1 | 15.613156 |\n",
       "| 433 | 16.1 | 42.883978 |\n",
       "| 434 | 14.3 | 16.118257 |\n",
       "| 444 | 15.4 | 13.457782 |\n",
       "| 455 | 14.9 | 12.868971 |\n",
       "| 457 | 12.7 | 14.129419 |\n",
       "| 458 | 13.5 | 15.661019 |\n",
       "| 470 | 20.1 | 21.039439 |\n",
       "| 474 | 29.8 | 23.279015 |\n",
       "| 479 | 14.6 | 14.613528 |\n",
       "| 487 | 19.1 | 20.517533 |\n",
       "| 488 | 20.6 | 22.978604 |\n",
       "| 490 |  7.0 | 13.552098 |\n",
       "| 492 | 13.6 | 17.862229 |\n",
       "| 494 | 21.8 | 20.822676 |\n",
       "| 498 | 18.3 | 18.295853 |\n",
       "| 500 | 17.5 | 18.483332 |\n",
       "\n"
      ],
      "text/plain": [
       "    test.r true.predictions\n",
       "2   21.6   22.72162        \n",
       "6   28.7   24.46917        \n",
       "10  18.9   21.46460        \n",
       "11  15.0   22.03764        \n",
       "14  20.4   19.83077        \n",
       "16  19.9   19.54689        \n",
       "19  20.2   19.93062        \n",
       "23  15.2   14.38529        \n",
       "27  16.6   16.18722        \n",
       "30  21.0   20.18682        \n",
       "44  24.7   22.70892        \n",
       "45  21.2   21.74317        \n",
       "51  19.7   21.43915        \n",
       "59  23.3   21.77698        \n",
       "63  22.2   23.19847        \n",
       "64  25.0   24.47591        \n",
       "67  19.4   20.88348        \n",
       "68  22.0   19.85782        \n",
       "74  23.4   23.38685        \n",
       "77  20.0   19.73212        \n",
       "78  20.8   21.22956        \n",
       "95  20.6   20.28069        \n",
       "96  28.4   27.08122        \n",
       "100 33.2   34.24590        \n",
       "101 27.5   22.31334        \n",
       "103 18.6   14.67238        \n",
       "107 19.5   21.59700        \n",
       "112 22.8   21.09414        \n",
       "114 18.7   17.86453        \n",
       "123 20.5   19.88458        \n",
       "... ...    ...             \n",
       "394 13.8   16.834311       \n",
       "399  5.0    8.438841       \n",
       "405  8.5    8.571663       \n",
       "407 11.9   13.012027       \n",
       "408 27.9   36.479043       \n",
       "412 17.2   29.123956       \n",
       "418 10.4    9.884072       \n",
       "420  8.4   11.487151       \n",
       "421 16.7   13.517759       \n",
       "425 11.7   39.117866       \n",
       "426  8.3    8.729106       \n",
       "427 10.2   41.491116       \n",
       "431 14.5   31.332295       \n",
       "432 14.1   15.613156       \n",
       "433 16.1   42.883978       \n",
       "434 14.3   16.118257       \n",
       "444 15.4   13.457782       \n",
       "455 14.9   12.868971       \n",
       "457 12.7   14.129419       \n",
       "458 13.5   15.661019       \n",
       "470 20.1   21.039439       \n",
       "474 29.8   23.279015       \n",
       "479 14.6   14.613528       \n",
       "487 19.1   20.517533       \n",
       "488 20.6   22.978604       \n",
       "490  7.0   13.552098       \n",
       "492 13.6   17.862229       \n",
       "494 21.8   20.822676       \n",
       "498 18.3   18.295853       \n",
       "500 17.5   18.483332       "
      ]
     },
     "metadata": {},
     "output_type": "display_data"
    }
   ],
   "source": [
    "error.df"
   ]
  },
  {
   "cell_type": "code",
   "execution_count": 25,
   "metadata": {},
   "outputs": [
    {
     "name": "stderr",
     "output_type": "stream",
     "text": [
      "`geom_smooth()` using method = 'loess' and formula 'y ~ x'\n",
      "\n"
     ]
    },
    {
     "data": {
      "image/png": "[encoded data removed]",
      "text/plain": [
       "plot without title"
      ]
     },
     "metadata": {
      "image/png": {
       "height": 420,
       "width": 420
      }
     },
     "output_type": "display_data"
    }
   ],
   "source": [
    "library(ggplot2)\n",
    "ggplot(error.df,aes(x=test.r,y=true.predictions)) + geom_point() + stat_smooth()"
   ]
  },
  {
   "cell_type": "code",
   "execution_count": null,
   "metadata": {},
   "outputs": [],
   "source": []
  }
 ],
 "metadata": {
  "kernelspec": {
   "display_name": "R",
   "language": "R",
   "name": "ir"
  },
  "language_info": {
   "codemirror_mode": "r",
   "file_extension": ".r",
   "mimetype": "text/x-r-source",
   "name": "R",
   "pygments_lexer": "r",
   "version": "4.0.4"
  }
 },
 "nbformat": 4,
 "nbformat_minor": 2
}
