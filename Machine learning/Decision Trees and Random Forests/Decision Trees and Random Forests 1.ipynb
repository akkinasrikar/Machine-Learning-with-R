{
 "cells": [
  {
   "cell_type": "code",
   "execution_count": 1,
   "metadata": {},
   "outputs": [],
   "source": [
    "#install.packages(\"rpart\")"
   ]
  },
  {
   "cell_type": "code",
   "execution_count": 2,
   "metadata": {},
   "outputs": [],
   "source": [
    "library(rpart)"
   ]
  },
  {
   "cell_type": "code",
   "execution_count": 3,
   "metadata": {},
   "outputs": [],
   "source": [
    "help(rpart)"
   ]
  },
  {
   "cell_type": "code",
   "execution_count": 4,
   "metadata": {},
   "outputs": [
    {
     "name": "stdout",
     "output_type": "stream",
     "text": [
      "'data.frame':\t81 obs. of  4 variables:\n",
      " $ Kyphosis: Factor w/ 2 levels \"absent\",\"present\": 1 1 2 1 1 1 1 1 1 2 ...\n",
      " $ Age     : int  71 158 128 2 1 1 61 37 113 59 ...\n",
      " $ Number  : int  3 3 4 5 4 2 2 3 2 6 ...\n",
      " $ Start   : int  5 14 5 1 15 16 17 16 16 12 ...\n"
     ]
    }
   ],
   "source": [
    "str(kyphosis)"
   ]
  },
  {
   "cell_type": "code",
   "execution_count": 5,
   "metadata": {},
   "outputs": [
    {
     "data": {
      "text/plain": [
       "    Kyphosis       Age             Number           Start      \n",
       " absent :64   Min.   :  1.00   Min.   : 2.000   Min.   : 1.00  \n",
       " present:17   1st Qu.: 26.00   1st Qu.: 3.000   1st Qu.: 9.00  \n",
       "              Median : 87.00   Median : 4.000   Median :13.00  \n",
       "              Mean   : 83.65   Mean   : 4.049   Mean   :11.49  \n",
       "              3rd Qu.:130.00   3rd Qu.: 5.000   3rd Qu.:16.00  \n",
       "              Max.   :206.00   Max.   :10.000   Max.   :18.00  "
      ]
     },
     "metadata": {},
     "output_type": "display_data"
    }
   ],
   "source": [
    "summary(kyphosis)"
   ]
  },
  {
   "cell_type": "code",
   "execution_count": 6,
   "metadata": {},
   "outputs": [
    {
     "data": {
      "text/html": [
       "<table class=\"dataframe\">\n",
       "<caption>A data.frame: 6 × 4</caption>\n",
       "<thead>\n",
       "\t<tr><th></th><th scope=col>Kyphosis</th><th scope=col>Age</th><th scope=col>Number</th><th scope=col>Start</th></tr>\n",
       "\t<tr><th></th><th scope=col>&lt;fct&gt;</th><th scope=col>&lt;int&gt;</th><th scope=col>&lt;int&gt;</th><th scope=col>&lt;int&gt;</th></tr>\n",
       "</thead>\n",
       "<tbody>\n",
       "\t<tr><th scope=row>1</th><td>absent </td><td> 71</td><td>3</td><td> 5</td></tr>\n",
       "\t<tr><th scope=row>2</th><td>absent </td><td>158</td><td>3</td><td>14</td></tr>\n",
       "\t<tr><th scope=row>3</th><td>present</td><td>128</td><td>4</td><td> 5</td></tr>\n",
       "\t<tr><th scope=row>4</th><td>absent </td><td>  2</td><td>5</td><td> 1</td></tr>\n",
       "\t<tr><th scope=row>5</th><td>absent </td><td>  1</td><td>4</td><td>15</td></tr>\n",
       "\t<tr><th scope=row>6</th><td>absent </td><td>  1</td><td>2</td><td>16</td></tr>\n",
       "</tbody>\n",
       "</table>\n"
      ],
      "text/latex": [
       "A data.frame: 6 × 4\n",
       "\\begin{tabular}{r|llll}\n",
       "  & Kyphosis & Age & Number & Start\\\\\n",
       "  & <fct> & <int> & <int> & <int>\\\\\n",
       "\\hline\n",
       "\t1 & absent  &  71 & 3 &  5\\\\\n",
       "\t2 & absent  & 158 & 3 & 14\\\\\n",
       "\t3 & present & 128 & 4 &  5\\\\\n",
       "\t4 & absent  &   2 & 5 &  1\\\\\n",
       "\t5 & absent  &   1 & 4 & 15\\\\\n",
       "\t6 & absent  &   1 & 2 & 16\\\\\n",
       "\\end{tabular}\n"
      ],
      "text/markdown": [
       "\n",
       "A data.frame: 6 × 4\n",
       "\n",
       "| <!--/--> | Kyphosis &lt;fct&gt; | Age &lt;int&gt; | Number &lt;int&gt; | Start &lt;int&gt; |\n",
       "|---|---|---|---|---|\n",
       "| 1 | absent  |  71 | 3 |  5 |\n",
       "| 2 | absent  | 158 | 3 | 14 |\n",
       "| 3 | present | 128 | 4 |  5 |\n",
       "| 4 | absent  |   2 | 5 |  1 |\n",
       "| 5 | absent  |   1 | 4 | 15 |\n",
       "| 6 | absent  |   1 | 2 | 16 |\n",
       "\n"
      ],
      "text/plain": [
       "  Kyphosis Age Number Start\n",
       "1 absent    71 3       5   \n",
       "2 absent   158 3      14   \n",
       "3 present  128 4       5   \n",
       "4 absent     2 5       1   \n",
       "5 absent     1 4      15   \n",
       "6 absent     1 2      16   "
      ]
     },
     "metadata": {},
     "output_type": "display_data"
    }
   ],
   "source": [
    "head(kyphosis)"
   ]
  },
  {
   "cell_type": "code",
   "execution_count": 7,
   "metadata": {},
   "outputs": [],
   "source": [
    "tree <- rpart(Kyphosis ~ .,method ='class',data=kyphosis)"
   ]
  },
  {
   "cell_type": "code",
   "execution_count": 8,
   "metadata": {},
   "outputs": [
    {
     "name": "stdout",
     "output_type": "stream",
     "text": [
      "n= 81 \n",
      "\n",
      "node), split, n, loss, yval, (yprob)\n",
      "      * denotes terminal node\n",
      "\n",
      " 1) root 81 17 absent (0.79012346 0.20987654)  \n",
      "   2) Start>=8.5 62  6 absent (0.90322581 0.09677419)  \n",
      "     4) Start>=14.5 29  0 absent (1.00000000 0.00000000) *\n",
      "     5) Start< 14.5 33  6 absent (0.81818182 0.18181818)  \n",
      "      10) Age< 55 12  0 absent (1.00000000 0.00000000) *\n",
      "      11) Age>=55 21  6 absent (0.71428571 0.28571429)  \n",
      "        22) Age>=111 14  2 absent (0.85714286 0.14285714) *\n",
      "        23) Age< 111 7  3 present (0.42857143 0.57142857) *\n",
      "   3) Start< 8.5 19  8 present (0.42105263 0.57894737) *\n"
     ]
    }
   ],
   "source": [
    "print(tree)"
   ]
  },
  {
   "cell_type": "code",
   "execution_count": 9,
   "metadata": {},
   "outputs": [
    {
     "name": "stdout",
     "output_type": "stream",
     "text": [
      "Call:\n",
      "rpart(formula = Kyphosis ~ ., data = kyphosis, method = \"class\")\n",
      "  n= 81 \n",
      "\n",
      "          CP nsplit rel error    xerror      xstd\n",
      "1 0.17647059      0 1.0000000 1.0000000 0.2155872\n",
      "2 0.01960784      1 0.8235294 0.8235294 0.2001751\n",
      "3 0.01000000      4 0.7647059 0.8235294 0.2001751\n",
      "\n",
      "Variable importance\n",
      " Start    Age Number \n",
      "    64     24     12 \n",
      "\n",
      "Node number 1: 81 observations,    complexity param=0.1764706\n",
      "  predicted class=absent   expected loss=0.2098765  P(node) =1\n",
      "    class counts:    64    17\n",
      "   probabilities: 0.790 0.210 \n",
      "  left son=2 (62 obs) right son=3 (19 obs)\n",
      "  Primary splits:\n",
      "      Start  < 8.5  to the right, improve=6.762330, (0 missing)\n",
      "      Number < 5.5  to the left,  improve=2.866795, (0 missing)\n",
      "      Age    < 39.5 to the left,  improve=2.250212, (0 missing)\n",
      "  Surrogate splits:\n",
      "      Number < 6.5  to the left,  agree=0.802, adj=0.158, (0 split)\n",
      "\n",
      "Node number 2: 62 observations,    complexity param=0.01960784\n",
      "  predicted class=absent   expected loss=0.09677419  P(node) =0.7654321\n",
      "    class counts:    56     6\n",
      "   probabilities: 0.903 0.097 \n",
      "  left son=4 (29 obs) right son=5 (33 obs)\n",
      "  Primary splits:\n",
      "      Start  < 14.5 to the right, improve=1.0205280, (0 missing)\n",
      "      Age    < 55   to the left,  improve=0.6848635, (0 missing)\n",
      "      Number < 4.5  to the left,  improve=0.2975332, (0 missing)\n",
      "  Surrogate splits:\n",
      "      Number < 3.5  to the left,  agree=0.645, adj=0.241, (0 split)\n",
      "      Age    < 16   to the left,  agree=0.597, adj=0.138, (0 split)\n",
      "\n",
      "Node number 3: 19 observations\n",
      "  predicted class=present  expected loss=0.4210526  P(node) =0.2345679\n",
      "    class counts:     8    11\n",
      "   probabilities: 0.421 0.579 \n",
      "\n",
      "Node number 4: 29 observations\n",
      "  predicted class=absent   expected loss=0  P(node) =0.3580247\n",
      "    class counts:    29     0\n",
      "   probabilities: 1.000 0.000 \n",
      "\n",
      "Node number 5: 33 observations,    complexity param=0.01960784\n",
      "  predicted class=absent   expected loss=0.1818182  P(node) =0.4074074\n",
      "    class counts:    27     6\n",
      "   probabilities: 0.818 0.182 \n",
      "  left son=10 (12 obs) right son=11 (21 obs)\n",
      "  Primary splits:\n",
      "      Age    < 55   to the left,  improve=1.2467530, (0 missing)\n",
      "      Start  < 12.5 to the right, improve=0.2887701, (0 missing)\n",
      "      Number < 3.5  to the right, improve=0.1753247, (0 missing)\n",
      "  Surrogate splits:\n",
      "      Start  < 9.5  to the left,  agree=0.758, adj=0.333, (0 split)\n",
      "      Number < 5.5  to the right, agree=0.697, adj=0.167, (0 split)\n",
      "\n",
      "Node number 10: 12 observations\n",
      "  predicted class=absent   expected loss=0  P(node) =0.1481481\n",
      "    class counts:    12     0\n",
      "   probabilities: 1.000 0.000 \n",
      "\n",
      "Node number 11: 21 observations,    complexity param=0.01960784\n",
      "  predicted class=absent   expected loss=0.2857143  P(node) =0.2592593\n",
      "    class counts:    15     6\n",
      "   probabilities: 0.714 0.286 \n",
      "  left son=22 (14 obs) right son=23 (7 obs)\n",
      "  Primary splits:\n",
      "      Age    < 111  to the right, improve=1.71428600, (0 missing)\n",
      "      Start  < 12.5 to the right, improve=0.79365080, (0 missing)\n",
      "      Number < 3.5  to the right, improve=0.07142857, (0 missing)\n",
      "\n",
      "Node number 22: 14 observations\n",
      "  predicted class=absent   expected loss=0.1428571  P(node) =0.1728395\n",
      "    class counts:    12     2\n",
      "   probabilities: 0.857 0.143 \n",
      "\n",
      "Node number 23: 7 observations\n",
      "  predicted class=present  expected loss=0.4285714  P(node) =0.08641975\n",
      "    class counts:     3     4\n",
      "   probabilities: 0.429 0.571 \n",
      "\n"
     ]
    }
   ],
   "source": [
    "summary(tree)"
   ]
  },
  {
   "cell_type": "code",
   "execution_count": 10,
   "metadata": {},
   "outputs": [
    {
     "name": "stdout",
     "output_type": "stream",
     "text": [
      "\n",
      "Classification tree:\n",
      "rpart(formula = Kyphosis ~ ., data = kyphosis, method = \"class\")\n",
      "\n",
      "Variables actually used in tree construction:\n",
      "[1] Age   Start\n",
      "\n",
      "Root node error: 17/81 = 0.20988\n",
      "\n",
      "n= 81 \n",
      "\n",
      "        CP nsplit rel error  xerror    xstd\n",
      "1 0.176471      0   1.00000 1.00000 0.21559\n",
      "2 0.019608      1   0.82353 0.82353 0.20018\n",
      "3 0.010000      4   0.76471 0.82353 0.20018\n"
     ]
    }
   ],
   "source": [
    "printcp(tree)"
   ]
  },
  {
   "cell_type": "code",
   "execution_count": 11,
   "metadata": {},
   "outputs": [
    {
     "data": {
      "image/png": "[encoded data removed]",
      "text/plain": [
       "Plot with title \"Kyphosis tree\""
      ]
     },
     "metadata": {
      "image/png": {
       "height": 420,
       "width": 420
      }
     },
     "output_type": "display_data"
    }
   ],
   "source": [
    "plot(tree,uniform = T,main=\"Kyphosis tree\")\n",
    "text(tree,use.n=T,all=T)"
   ]
  },
  {
   "cell_type": "code",
   "execution_count": 12,
   "metadata": {},
   "outputs": [],
   "source": [
    "#install.packages(\"rpart.plot\")"
   ]
  },
  {
   "cell_type": "code",
   "execution_count": 13,
   "metadata": {},
   "outputs": [],
   "source": [
    "library(rpart.plot)"
   ]
  },
  {
   "cell_type": "code",
   "execution_count": 14,
   "metadata": {},
   "outputs": [
    {
     "data": {
      "image/png": "[encoded data removed]",
      "text/plain": [
       "plot without title"
      ]
     },
     "metadata": {
      "image/png": {
       "height": 420,
       "width": 420
      }
     },
     "output_type": "display_data"
    }
   ],
   "source": [
    "prp(tree)"
   ]
  },
  {
   "cell_type": "code",
   "execution_count": 15,
   "metadata": {},
   "outputs": [],
   "source": [
    "#install.packages(\"randomForest\")"
   ]
  },
  {
   "cell_type": "code",
   "execution_count": 16,
   "metadata": {},
   "outputs": [
    {
     "name": "stderr",
     "output_type": "stream",
     "text": [
      "randomForest 4.6-14\n",
      "\n",
      "Type rfNews() to see new features/changes/bug fixes.\n",
      "\n"
     ]
    }
   ],
   "source": [
    "library(randomForest)"
   ]
  },
  {
   "cell_type": "code",
   "execution_count": 17,
   "metadata": {},
   "outputs": [],
   "source": [
    "rf_model <- randomForest(Kyphosis ~ .,data=kyphosis)"
   ]
  },
  {
   "cell_type": "code",
   "execution_count": 18,
   "metadata": {},
   "outputs": [
    {
     "data": {
      "text/plain": [
       "                Length Class  Mode     \n",
       "call               3   -none- call     \n",
       "type               1   -none- character\n",
       "predicted         81   factor numeric  \n",
       "err.rate        1500   -none- numeric  \n",
       "confusion          6   -none- numeric  \n",
       "votes            162   matrix numeric  \n",
       "oob.times         81   -none- numeric  \n",
       "classes            2   -none- character\n",
       "importance         3   -none- numeric  \n",
       "importanceSD       0   -none- NULL     \n",
       "localImportance    0   -none- NULL     \n",
       "proximity          0   -none- NULL     \n",
       "ntree              1   -none- numeric  \n",
       "mtry               1   -none- numeric  \n",
       "forest            14   -none- list     \n",
       "y                 81   factor numeric  \n",
       "test               0   -none- NULL     \n",
       "inbag              0   -none- NULL     \n",
       "terms              3   terms  call     "
      ]
     },
     "metadata": {},
     "output_type": "display_data"
    }
   ],
   "source": [
    "summary(rf_model)"
   ]
  },
  {
   "cell_type": "code",
   "execution_count": 19,
   "metadata": {},
   "outputs": [
    {
     "name": "stdout",
     "output_type": "stream",
     "text": [
      "\n",
      "Call:\n",
      " randomForest(formula = Kyphosis ~ ., data = kyphosis) \n",
      "               Type of random forest: classification\n",
      "                     Number of trees: 500\n",
      "No. of variables tried at each split: 1\n",
      "\n",
      "        OOB estimate of  error rate: 22.22%\n",
      "Confusion matrix:\n",
      "        absent present class.error\n",
      "absent      58       6   0.0937500\n",
      "present     12       5   0.7058824\n"
     ]
    }
   ],
   "source": [
    "print(rf_model)"
   ]
  },
  {
   "cell_type": "code",
   "execution_count": 20,
   "metadata": {},
   "outputs": [
    {
     "data": {
      "text/html": [
       "500"
      ],
      "text/latex": [
       "500"
      ],
      "text/markdown": [
       "500"
      ],
      "text/plain": [
       "[1] 500"
      ]
     },
     "metadata": {},
     "output_type": "display_data"
    }
   ],
   "source": [
    "rf_model$ntree"
   ]
  },
  {
   "cell_type": "code",
   "execution_count": 21,
   "metadata": {},
   "outputs": [
    {
     "data": {
      "text/html": [
       "<table class=\"dataframe\">\n",
       "<caption>A matrix: 2 × 3 of type dbl</caption>\n",
       "<thead>\n",
       "\t<tr><th></th><th scope=col>absent</th><th scope=col>present</th><th scope=col>class.error</th></tr>\n",
       "</thead>\n",
       "<tbody>\n",
       "\t<tr><th scope=row>absent</th><td>58</td><td>6</td><td>0.0937500</td></tr>\n",
       "\t<tr><th scope=row>present</th><td>12</td><td>5</td><td>0.7058824</td></tr>\n",
       "</tbody>\n",
       "</table>\n"
      ],
      "text/latex": [
       "A matrix: 2 × 3 of type dbl\n",
       "\\begin{tabular}{r|lll}\n",
       "  & absent & present & class.error\\\\\n",
       "\\hline\n",
       "\tabsent & 58 & 6 & 0.0937500\\\\\n",
       "\tpresent & 12 & 5 & 0.7058824\\\\\n",
       "\\end{tabular}\n"
      ],
      "text/markdown": [
       "\n",
       "A matrix: 2 × 3 of type dbl\n",
       "\n",
       "| <!--/--> | absent | present | class.error |\n",
       "|---|---|---|---|\n",
       "| absent | 58 | 6 | 0.0937500 |\n",
       "| present | 12 | 5 | 0.7058824 |\n",
       "\n"
      ],
      "text/plain": [
       "        absent present class.error\n",
       "absent  58     6       0.0937500  \n",
       "present 12     5       0.7058824  "
      ]
     },
     "metadata": {},
     "output_type": "display_data"
    }
   ],
   "source": [
    "rf_model$confusion"
   ]
  },
  {
   "cell_type": "code",
   "execution_count": null,
   "metadata": {},
   "outputs": [],
   "source": []
  }
 ],
 "metadata": {
  "kernelspec": {
   "display_name": "R",
   "language": "R",
   "name": "ir"
  },
  "language_info": {
   "codemirror_mode": "r",
   "file_extension": ".r",
   "mimetype": "text/x-r-source",
   "name": "R",
   "pygments_lexer": "r",
   "version": "4.0.4"
  }
 },
 "nbformat": 4,
 "nbformat_minor": 2
}
