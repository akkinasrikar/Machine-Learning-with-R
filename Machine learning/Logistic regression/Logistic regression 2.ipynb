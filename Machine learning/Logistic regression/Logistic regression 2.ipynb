{
 "cells": [
  {
   "cell_type": "code",
   "execution_count": 1,
   "metadata": {},
   "outputs": [],
   "source": [
    "data <- read.csv('adult_sal.csv')"
   ]
  },
  {
   "cell_type": "code",
   "execution_count": 2,
   "metadata": {
    "scrolled": true
   },
   "outputs": [
    {
     "data": {
      "text/html": [
       "<table class=\"dataframe\">\n",
       "<caption>A data.frame: 6 × 16</caption>\n",
       "<thead>\n",
       "\t<tr><th></th><th scope=col>X</th><th scope=col>age</th><th scope=col>type_employer</th><th scope=col>fnlwgt</th><th scope=col>education</th><th scope=col>education_num</th><th scope=col>marital</th><th scope=col>occupation</th><th scope=col>relationship</th><th scope=col>race</th><th scope=col>sex</th><th scope=col>capital_gain</th><th scope=col>capital_loss</th><th scope=col>hr_per_week</th><th scope=col>country</th><th scope=col>income</th></tr>\n",
       "\t<tr><th></th><th scope=col>&lt;int&gt;</th><th scope=col>&lt;int&gt;</th><th scope=col>&lt;chr&gt;</th><th scope=col>&lt;int&gt;</th><th scope=col>&lt;chr&gt;</th><th scope=col>&lt;int&gt;</th><th scope=col>&lt;chr&gt;</th><th scope=col>&lt;chr&gt;</th><th scope=col>&lt;chr&gt;</th><th scope=col>&lt;chr&gt;</th><th scope=col>&lt;chr&gt;</th><th scope=col>&lt;int&gt;</th><th scope=col>&lt;int&gt;</th><th scope=col>&lt;int&gt;</th><th scope=col>&lt;chr&gt;</th><th scope=col>&lt;chr&gt;</th></tr>\n",
       "</thead>\n",
       "<tbody>\n",
       "\t<tr><th scope=row>1</th><td>1</td><td>39</td><td><span style=white-space:pre-wrap>State-gov       </span></td><td> 77516</td><td>Bachelors</td><td>13</td><td><span style=white-space:pre-wrap>Never-married     </span></td><td><span style=white-space:pre-wrap>Adm-clerical     </span></td><td>Not-in-family</td><td>White</td><td><span style=white-space:pre-wrap>Male  </span></td><td>2174</td><td>0</td><td>40</td><td>United-States</td><td>&lt;=50K</td></tr>\n",
       "\t<tr><th scope=row>2</th><td>2</td><td>50</td><td>Self-emp-not-inc</td><td> 83311</td><td>Bachelors</td><td>13</td><td>Married-civ-spouse</td><td><span style=white-space:pre-wrap>Exec-managerial  </span></td><td><span style=white-space:pre-wrap>Husband      </span></td><td>White</td><td><span style=white-space:pre-wrap>Male  </span></td><td><span style=white-space:pre-wrap>   0</span></td><td>0</td><td>13</td><td>United-States</td><td>&lt;=50K</td></tr>\n",
       "\t<tr><th scope=row>3</th><td>3</td><td>38</td><td><span style=white-space:pre-wrap>Private         </span></td><td>215646</td><td><span style=white-space:pre-wrap>HS-grad  </span></td><td> 9</td><td><span style=white-space:pre-wrap>Divorced          </span></td><td>Handlers-cleaners</td><td>Not-in-family</td><td>White</td><td><span style=white-space:pre-wrap>Male  </span></td><td><span style=white-space:pre-wrap>   0</span></td><td>0</td><td>40</td><td>United-States</td><td>&lt;=50K</td></tr>\n",
       "\t<tr><th scope=row>4</th><td>4</td><td>53</td><td><span style=white-space:pre-wrap>Private         </span></td><td>234721</td><td><span style=white-space:pre-wrap>11th     </span></td><td> 7</td><td>Married-civ-spouse</td><td>Handlers-cleaners</td><td><span style=white-space:pre-wrap>Husband      </span></td><td>Black</td><td><span style=white-space:pre-wrap>Male  </span></td><td><span style=white-space:pre-wrap>   0</span></td><td>0</td><td>40</td><td>United-States</td><td>&lt;=50K</td></tr>\n",
       "\t<tr><th scope=row>5</th><td>5</td><td>28</td><td><span style=white-space:pre-wrap>Private         </span></td><td>338409</td><td>Bachelors</td><td>13</td><td>Married-civ-spouse</td><td><span style=white-space:pre-wrap>Prof-specialty   </span></td><td><span style=white-space:pre-wrap>Wife         </span></td><td>Black</td><td>Female</td><td><span style=white-space:pre-wrap>   0</span></td><td>0</td><td>40</td><td><span style=white-space:pre-wrap>Cuba         </span></td><td>&lt;=50K</td></tr>\n",
       "\t<tr><th scope=row>6</th><td>6</td><td>37</td><td><span style=white-space:pre-wrap>Private         </span></td><td>284582</td><td><span style=white-space:pre-wrap>Masters  </span></td><td>14</td><td>Married-civ-spouse</td><td><span style=white-space:pre-wrap>Exec-managerial  </span></td><td><span style=white-space:pre-wrap>Wife         </span></td><td>White</td><td>Female</td><td><span style=white-space:pre-wrap>   0</span></td><td>0</td><td>40</td><td>United-States</td><td>&lt;=50K</td></tr>\n",
       "</tbody>\n",
       "</table>\n"
      ],
      "text/latex": [
       "A data.frame: 6 × 16\n",
       "\\begin{tabular}{r|llllllllllllllll}\n",
       "  & X & age & type\\_employer & fnlwgt & education & education\\_num & marital & occupation & relationship & race & sex & capital\\_gain & capital\\_loss & hr\\_per\\_week & country & income\\\\\n",
       "  & <int> & <int> & <chr> & <int> & <chr> & <int> & <chr> & <chr> & <chr> & <chr> & <chr> & <int> & <int> & <int> & <chr> & <chr>\\\\\n",
       "\\hline\n",
       "\t1 & 1 & 39 & State-gov        &  77516 & Bachelors & 13 & Never-married      & Adm-clerical      & Not-in-family & White & Male   & 2174 & 0 & 40 & United-States & <=50K\\\\\n",
       "\t2 & 2 & 50 & Self-emp-not-inc &  83311 & Bachelors & 13 & Married-civ-spouse & Exec-managerial   & Husband       & White & Male   &    0 & 0 & 13 & United-States & <=50K\\\\\n",
       "\t3 & 3 & 38 & Private          & 215646 & HS-grad   &  9 & Divorced           & Handlers-cleaners & Not-in-family & White & Male   &    0 & 0 & 40 & United-States & <=50K\\\\\n",
       "\t4 & 4 & 53 & Private          & 234721 & 11th      &  7 & Married-civ-spouse & Handlers-cleaners & Husband       & Black & Male   &    0 & 0 & 40 & United-States & <=50K\\\\\n",
       "\t5 & 5 & 28 & Private          & 338409 & Bachelors & 13 & Married-civ-spouse & Prof-specialty    & Wife          & Black & Female &    0 & 0 & 40 & Cuba          & <=50K\\\\\n",
       "\t6 & 6 & 37 & Private          & 284582 & Masters   & 14 & Married-civ-spouse & Exec-managerial   & Wife          & White & Female &    0 & 0 & 40 & United-States & <=50K\\\\\n",
       "\\end{tabular}\n"
      ],
      "text/markdown": [
       "\n",
       "A data.frame: 6 × 16\n",
       "\n",
       "| <!--/--> | X &lt;int&gt; | age &lt;int&gt; | type_employer &lt;chr&gt; | fnlwgt &lt;int&gt; | education &lt;chr&gt; | education_num &lt;int&gt; | marital &lt;chr&gt; | occupation &lt;chr&gt; | relationship &lt;chr&gt; | race &lt;chr&gt; | sex &lt;chr&gt; | capital_gain &lt;int&gt; | capital_loss &lt;int&gt; | hr_per_week &lt;int&gt; | country &lt;chr&gt; | income &lt;chr&gt; |\n",
       "|---|---|---|---|---|---|---|---|---|---|---|---|---|---|---|---|---|\n",
       "| 1 | 1 | 39 | State-gov        |  77516 | Bachelors | 13 | Never-married      | Adm-clerical      | Not-in-family | White | Male   | 2174 | 0 | 40 | United-States | &lt;=50K |\n",
       "| 2 | 2 | 50 | Self-emp-not-inc |  83311 | Bachelors | 13 | Married-civ-spouse | Exec-managerial   | Husband       | White | Male   |    0 | 0 | 13 | United-States | &lt;=50K |\n",
       "| 3 | 3 | 38 | Private          | 215646 | HS-grad   |  9 | Divorced           | Handlers-cleaners | Not-in-family | White | Male   |    0 | 0 | 40 | United-States | &lt;=50K |\n",
       "| 4 | 4 | 53 | Private          | 234721 | 11th      |  7 | Married-civ-spouse | Handlers-cleaners | Husband       | Black | Male   |    0 | 0 | 40 | United-States | &lt;=50K |\n",
       "| 5 | 5 | 28 | Private          | 338409 | Bachelors | 13 | Married-civ-spouse | Prof-specialty    | Wife          | Black | Female |    0 | 0 | 40 | Cuba          | &lt;=50K |\n",
       "| 6 | 6 | 37 | Private          | 284582 | Masters   | 14 | Married-civ-spouse | Exec-managerial   | Wife          | White | Female |    0 | 0 | 40 | United-States | &lt;=50K |\n",
       "\n"
      ],
      "text/plain": [
       "  X age type_employer    fnlwgt education education_num marital           \n",
       "1 1 39  State-gov         77516 Bachelors 13            Never-married     \n",
       "2 2 50  Self-emp-not-inc  83311 Bachelors 13            Married-civ-spouse\n",
       "3 3 38  Private          215646 HS-grad    9            Divorced          \n",
       "4 4 53  Private          234721 11th       7            Married-civ-spouse\n",
       "5 5 28  Private          338409 Bachelors 13            Married-civ-spouse\n",
       "6 6 37  Private          284582 Masters   14            Married-civ-spouse\n",
       "  occupation        relationship  race  sex    capital_gain capital_loss\n",
       "1 Adm-clerical      Not-in-family White Male   2174         0           \n",
       "2 Exec-managerial   Husband       White Male      0         0           \n",
       "3 Handlers-cleaners Not-in-family White Male      0         0           \n",
       "4 Handlers-cleaners Husband       Black Male      0         0           \n",
       "5 Prof-specialty    Wife          Black Female    0         0           \n",
       "6 Exec-managerial   Wife          White Female    0         0           \n",
       "  hr_per_week country       income\n",
       "1 40          United-States <=50K \n",
       "2 13          United-States <=50K \n",
       "3 40          United-States <=50K \n",
       "4 40          United-States <=50K \n",
       "5 40          Cuba          <=50K \n",
       "6 40          United-States <=50K "
      ]
     },
     "metadata": {},
     "output_type": "display_data"
    }
   ],
   "source": [
    "head(data)"
   ]
  },
  {
   "cell_type": "code",
   "execution_count": 3,
   "metadata": {},
   "outputs": [
    {
     "name": "stderr",
     "output_type": "stream",
     "text": [
      "\n",
      "Attaching package: 'dplyr'\n",
      "\n",
      "\n",
      "The following objects are masked from 'package:stats':\n",
      "\n",
      "    filter, lag\n",
      "\n",
      "\n",
      "The following objects are masked from 'package:base':\n",
      "\n",
      "    intersect, setdiff, setequal, union\n",
      "\n",
      "\n"
     ]
    }
   ],
   "source": [
    "library(dplyr)"
   ]
  },
  {
   "cell_type": "code",
   "execution_count": 4,
   "metadata": {},
   "outputs": [],
   "source": [
    "data <- select(data,-X)"
   ]
  },
  {
   "cell_type": "code",
   "execution_count": 5,
   "metadata": {},
   "outputs": [
    {
     "data": {
      "text/html": [
       "<table class=\"dataframe\">\n",
       "<caption>A data.frame: 6 × 15</caption>\n",
       "<thead>\n",
       "\t<tr><th></th><th scope=col>age</th><th scope=col>type_employer</th><th scope=col>fnlwgt</th><th scope=col>education</th><th scope=col>education_num</th><th scope=col>marital</th><th scope=col>occupation</th><th scope=col>relationship</th><th scope=col>race</th><th scope=col>sex</th><th scope=col>capital_gain</th><th scope=col>capital_loss</th><th scope=col>hr_per_week</th><th scope=col>country</th><th scope=col>income</th></tr>\n",
       "\t<tr><th></th><th scope=col>&lt;int&gt;</th><th scope=col>&lt;chr&gt;</th><th scope=col>&lt;int&gt;</th><th scope=col>&lt;chr&gt;</th><th scope=col>&lt;int&gt;</th><th scope=col>&lt;chr&gt;</th><th scope=col>&lt;chr&gt;</th><th scope=col>&lt;chr&gt;</th><th scope=col>&lt;chr&gt;</th><th scope=col>&lt;chr&gt;</th><th scope=col>&lt;int&gt;</th><th scope=col>&lt;int&gt;</th><th scope=col>&lt;int&gt;</th><th scope=col>&lt;chr&gt;</th><th scope=col>&lt;chr&gt;</th></tr>\n",
       "</thead>\n",
       "<tbody>\n",
       "\t<tr><th scope=row>1</th><td>39</td><td><span style=white-space:pre-wrap>State-gov       </span></td><td> 77516</td><td>Bachelors</td><td>13</td><td><span style=white-space:pre-wrap>Never-married     </span></td><td><span style=white-space:pre-wrap>Adm-clerical     </span></td><td>Not-in-family</td><td>White</td><td><span style=white-space:pre-wrap>Male  </span></td><td>2174</td><td>0</td><td>40</td><td>United-States</td><td>&lt;=50K</td></tr>\n",
       "\t<tr><th scope=row>2</th><td>50</td><td>Self-emp-not-inc</td><td> 83311</td><td>Bachelors</td><td>13</td><td>Married-civ-spouse</td><td><span style=white-space:pre-wrap>Exec-managerial  </span></td><td><span style=white-space:pre-wrap>Husband      </span></td><td>White</td><td><span style=white-space:pre-wrap>Male  </span></td><td><span style=white-space:pre-wrap>   0</span></td><td>0</td><td>13</td><td>United-States</td><td>&lt;=50K</td></tr>\n",
       "\t<tr><th scope=row>3</th><td>38</td><td><span style=white-space:pre-wrap>Private         </span></td><td>215646</td><td><span style=white-space:pre-wrap>HS-grad  </span></td><td> 9</td><td><span style=white-space:pre-wrap>Divorced          </span></td><td>Handlers-cleaners</td><td>Not-in-family</td><td>White</td><td><span style=white-space:pre-wrap>Male  </span></td><td><span style=white-space:pre-wrap>   0</span></td><td>0</td><td>40</td><td>United-States</td><td>&lt;=50K</td></tr>\n",
       "\t<tr><th scope=row>4</th><td>53</td><td><span style=white-space:pre-wrap>Private         </span></td><td>234721</td><td><span style=white-space:pre-wrap>11th     </span></td><td> 7</td><td>Married-civ-spouse</td><td>Handlers-cleaners</td><td><span style=white-space:pre-wrap>Husband      </span></td><td>Black</td><td><span style=white-space:pre-wrap>Male  </span></td><td><span style=white-space:pre-wrap>   0</span></td><td>0</td><td>40</td><td>United-States</td><td>&lt;=50K</td></tr>\n",
       "\t<tr><th scope=row>5</th><td>28</td><td><span style=white-space:pre-wrap>Private         </span></td><td>338409</td><td>Bachelors</td><td>13</td><td>Married-civ-spouse</td><td><span style=white-space:pre-wrap>Prof-specialty   </span></td><td><span style=white-space:pre-wrap>Wife         </span></td><td>Black</td><td>Female</td><td><span style=white-space:pre-wrap>   0</span></td><td>0</td><td>40</td><td><span style=white-space:pre-wrap>Cuba         </span></td><td>&lt;=50K</td></tr>\n",
       "\t<tr><th scope=row>6</th><td>37</td><td><span style=white-space:pre-wrap>Private         </span></td><td>284582</td><td><span style=white-space:pre-wrap>Masters  </span></td><td>14</td><td>Married-civ-spouse</td><td><span style=white-space:pre-wrap>Exec-managerial  </span></td><td><span style=white-space:pre-wrap>Wife         </span></td><td>White</td><td>Female</td><td><span style=white-space:pre-wrap>   0</span></td><td>0</td><td>40</td><td>United-States</td><td>&lt;=50K</td></tr>\n",
       "</tbody>\n",
       "</table>\n"
      ],
      "text/latex": [
       "A data.frame: 6 × 15\n",
       "\\begin{tabular}{r|lllllllllllllll}\n",
       "  & age & type\\_employer & fnlwgt & education & education\\_num & marital & occupation & relationship & race & sex & capital\\_gain & capital\\_loss & hr\\_per\\_week & country & income\\\\\n",
       "  & <int> & <chr> & <int> & <chr> & <int> & <chr> & <chr> & <chr> & <chr> & <chr> & <int> & <int> & <int> & <chr> & <chr>\\\\\n",
       "\\hline\n",
       "\t1 & 39 & State-gov        &  77516 & Bachelors & 13 & Never-married      & Adm-clerical      & Not-in-family & White & Male   & 2174 & 0 & 40 & United-States & <=50K\\\\\n",
       "\t2 & 50 & Self-emp-not-inc &  83311 & Bachelors & 13 & Married-civ-spouse & Exec-managerial   & Husband       & White & Male   &    0 & 0 & 13 & United-States & <=50K\\\\\n",
       "\t3 & 38 & Private          & 215646 & HS-grad   &  9 & Divorced           & Handlers-cleaners & Not-in-family & White & Male   &    0 & 0 & 40 & United-States & <=50K\\\\\n",
       "\t4 & 53 & Private          & 234721 & 11th      &  7 & Married-civ-spouse & Handlers-cleaners & Husband       & Black & Male   &    0 & 0 & 40 & United-States & <=50K\\\\\n",
       "\t5 & 28 & Private          & 338409 & Bachelors & 13 & Married-civ-spouse & Prof-specialty    & Wife          & Black & Female &    0 & 0 & 40 & Cuba          & <=50K\\\\\n",
       "\t6 & 37 & Private          & 284582 & Masters   & 14 & Married-civ-spouse & Exec-managerial   & Wife          & White & Female &    0 & 0 & 40 & United-States & <=50K\\\\\n",
       "\\end{tabular}\n"
      ],
      "text/markdown": [
       "\n",
       "A data.frame: 6 × 15\n",
       "\n",
       "| <!--/--> | age &lt;int&gt; | type_employer &lt;chr&gt; | fnlwgt &lt;int&gt; | education &lt;chr&gt; | education_num &lt;int&gt; | marital &lt;chr&gt; | occupation &lt;chr&gt; | relationship &lt;chr&gt; | race &lt;chr&gt; | sex &lt;chr&gt; | capital_gain &lt;int&gt; | capital_loss &lt;int&gt; | hr_per_week &lt;int&gt; | country &lt;chr&gt; | income &lt;chr&gt; |\n",
       "|---|---|---|---|---|---|---|---|---|---|---|---|---|---|---|---|\n",
       "| 1 | 39 | State-gov        |  77516 | Bachelors | 13 | Never-married      | Adm-clerical      | Not-in-family | White | Male   | 2174 | 0 | 40 | United-States | &lt;=50K |\n",
       "| 2 | 50 | Self-emp-not-inc |  83311 | Bachelors | 13 | Married-civ-spouse | Exec-managerial   | Husband       | White | Male   |    0 | 0 | 13 | United-States | &lt;=50K |\n",
       "| 3 | 38 | Private          | 215646 | HS-grad   |  9 | Divorced           | Handlers-cleaners | Not-in-family | White | Male   |    0 | 0 | 40 | United-States | &lt;=50K |\n",
       "| 4 | 53 | Private          | 234721 | 11th      |  7 | Married-civ-spouse | Handlers-cleaners | Husband       | Black | Male   |    0 | 0 | 40 | United-States | &lt;=50K |\n",
       "| 5 | 28 | Private          | 338409 | Bachelors | 13 | Married-civ-spouse | Prof-specialty    | Wife          | Black | Female |    0 | 0 | 40 | Cuba          | &lt;=50K |\n",
       "| 6 | 37 | Private          | 284582 | Masters   | 14 | Married-civ-spouse | Exec-managerial   | Wife          | White | Female |    0 | 0 | 40 | United-States | &lt;=50K |\n",
       "\n"
      ],
      "text/plain": [
       "  age type_employer    fnlwgt education education_num marital           \n",
       "1 39  State-gov         77516 Bachelors 13            Never-married     \n",
       "2 50  Self-emp-not-inc  83311 Bachelors 13            Married-civ-spouse\n",
       "3 38  Private          215646 HS-grad    9            Divorced          \n",
       "4 53  Private          234721 11th       7            Married-civ-spouse\n",
       "5 28  Private          338409 Bachelors 13            Married-civ-spouse\n",
       "6 37  Private          284582 Masters   14            Married-civ-spouse\n",
       "  occupation        relationship  race  sex    capital_gain capital_loss\n",
       "1 Adm-clerical      Not-in-family White Male   2174         0           \n",
       "2 Exec-managerial   Husband       White Male      0         0           \n",
       "3 Handlers-cleaners Not-in-family White Male      0         0           \n",
       "4 Handlers-cleaners Husband       Black Male      0         0           \n",
       "5 Prof-specialty    Wife          Black Female    0         0           \n",
       "6 Exec-managerial   Wife          White Female    0         0           \n",
       "  hr_per_week country       income\n",
       "1 40          United-States <=50K \n",
       "2 13          United-States <=50K \n",
       "3 40          United-States <=50K \n",
       "4 40          United-States <=50K \n",
       "5 40          Cuba          <=50K \n",
       "6 40          United-States <=50K "
      ]
     },
     "metadata": {},
     "output_type": "display_data"
    }
   ],
   "source": [
    "head(data)"
   ]
  },
  {
   "cell_type": "code",
   "execution_count": 6,
   "metadata": {},
   "outputs": [
    {
     "name": "stdout",
     "output_type": "stream",
     "text": [
      "'data.frame':\t32561 obs. of  15 variables:\n",
      " $ age          : int  39 50 38 53 28 37 49 52 31 42 ...\n",
      " $ type_employer: chr  \"State-gov\" \"Self-emp-not-inc\" \"Private\" \"Private\" ...\n",
      " $ fnlwgt       : int  77516 83311 215646 234721 338409 284582 160187 209642 45781 159449 ...\n",
      " $ education    : chr  \"Bachelors\" \"Bachelors\" \"HS-grad\" \"11th\" ...\n",
      " $ education_num: int  13 13 9 7 13 14 5 9 14 13 ...\n",
      " $ marital      : chr  \"Never-married\" \"Married-civ-spouse\" \"Divorced\" \"Married-civ-spouse\" ...\n",
      " $ occupation   : chr  \"Adm-clerical\" \"Exec-managerial\" \"Handlers-cleaners\" \"Handlers-cleaners\" ...\n",
      " $ relationship : chr  \"Not-in-family\" \"Husband\" \"Not-in-family\" \"Husband\" ...\n",
      " $ race         : chr  \"White\" \"White\" \"White\" \"Black\" ...\n",
      " $ sex          : chr  \"Male\" \"Male\" \"Male\" \"Male\" ...\n",
      " $ capital_gain : int  2174 0 0 0 0 0 0 0 14084 5178 ...\n",
      " $ capital_loss : int  0 0 0 0 0 0 0 0 0 0 ...\n",
      " $ hr_per_week  : int  40 13 40 40 40 40 16 45 50 40 ...\n",
      " $ country      : chr  \"United-States\" \"United-States\" \"United-States\" \"United-States\" ...\n",
      " $ income       : chr  \"<=50K\" \"<=50K\" \"<=50K\" \"<=50K\" ...\n"
     ]
    }
   ],
   "source": [
    "str(data)"
   ]
  },
  {
   "cell_type": "code",
   "execution_count": 7,
   "metadata": {},
   "outputs": [
    {
     "data": {
      "text/plain": [
       "      age        type_employer          fnlwgt         education        \n",
       " Min.   :17.00   Length:32561       Min.   :  12285   Length:32561      \n",
       " 1st Qu.:28.00   Class :character   1st Qu.: 117827   Class :character  \n",
       " Median :37.00   Mode  :character   Median : 178356   Mode  :character  \n",
       " Mean   :38.58                      Mean   : 189778                     \n",
       " 3rd Qu.:48.00                      3rd Qu.: 237051                     \n",
       " Max.   :90.00                      Max.   :1484705                     \n",
       " education_num     marital           occupation        relationship      \n",
       " Min.   : 1.00   Length:32561       Length:32561       Length:32561      \n",
       " 1st Qu.: 9.00   Class :character   Class :character   Class :character  \n",
       " Median :10.00   Mode  :character   Mode  :character   Mode  :character  \n",
       " Mean   :10.08                                                           \n",
       " 3rd Qu.:12.00                                                           \n",
       " Max.   :16.00                                                           \n",
       "     race               sex             capital_gain    capital_loss   \n",
       " Length:32561       Length:32561       Min.   :    0   Min.   :   0.0  \n",
       " Class :character   Class :character   1st Qu.:    0   1st Qu.:   0.0  \n",
       " Mode  :character   Mode  :character   Median :    0   Median :   0.0  \n",
       "                                       Mean   : 1078   Mean   :  87.3  \n",
       "                                       3rd Qu.:    0   3rd Qu.:   0.0  \n",
       "                                       Max.   :99999   Max.   :4356.0  \n",
       "  hr_per_week      country             income         \n",
       " Min.   : 1.00   Length:32561       Length:32561      \n",
       " 1st Qu.:40.00   Class :character   Class :character  \n",
       " Median :40.00   Mode  :character   Mode  :character  \n",
       " Mean   :40.44                                        \n",
       " 3rd Qu.:45.00                                        \n",
       " Max.   :99.00                                        "
      ]
     },
     "metadata": {},
     "output_type": "display_data"
    }
   ],
   "source": [
    "summary(data)"
   ]
  },
  {
   "cell_type": "code",
   "execution_count": 8,
   "metadata": {},
   "outputs": [
    {
     "data": {
      "text/plain": [
       "\n",
       "               ?      Federal-gov        Local-gov     Never-worked \n",
       "            1836              960             2093                7 \n",
       "         Private     Self-emp-inc Self-emp-not-inc        State-gov \n",
       "           22696             1116             2541             1298 \n",
       "     Without-pay \n",
       "              14 "
      ]
     },
     "metadata": {},
     "output_type": "display_data"
    }
   ],
   "source": [
    "table(data$type_employer)"
   ]
  },
  {
   "cell_type": "code",
   "execution_count": 9,
   "metadata": {},
   "outputs": [],
   "source": [
    "unemp <- function(job){\n",
    "    job <- as.character(job)\n",
    "    if (job==\"Never-worked\" | job==\"Without-pay\"){\n",
    "        return (\"Unemployed\")\n",
    "    }else{\n",
    "        return(job)\n",
    "    } \n",
    "}"
   ]
  },
  {
   "cell_type": "code",
   "execution_count": 10,
   "metadata": {},
   "outputs": [],
   "source": [
    "data$type_employer <- sapply(data$type_employer,unemp)        "
   ]
  },
  {
   "cell_type": "code",
   "execution_count": 11,
   "metadata": {},
   "outputs": [
    {
     "data": {
      "text/plain": [
       "\n",
       "               ?      Federal-gov        Local-gov          Private \n",
       "            1836              960             2093            22696 \n",
       "    Self-emp-inc Self-emp-not-inc        State-gov       Unemployed \n",
       "            1116             2541             1298               21 "
      ]
     },
     "metadata": {},
     "output_type": "display_data"
    }
   ],
   "source": [
    "table(data$type_employer)"
   ]
  },
  {
   "cell_type": "code",
   "execution_count": 12,
   "metadata": {},
   "outputs": [],
   "source": [
    "jobs <- function(job){\n",
    "    job <- as.character(job)\n",
    "    if (job==\"Self-emp-inc\" | job==\"Self-emp-not-inc\"){\n",
    "        return(\"self-emp\")\n",
    "    }else if (job==\"Local-gov\" | job==\"State-gov\"){\n",
    "        return (\"SL-gov\")\n",
    "    }else{\n",
    "            return(job)\n",
    "        }\n",
    "}"
   ]
  },
  {
   "cell_type": "code",
   "execution_count": 13,
   "metadata": {},
   "outputs": [],
   "source": [
    "data$type_employer <- sapply(data$type_employer,jobs)        "
   ]
  },
  {
   "cell_type": "code",
   "execution_count": 14,
   "metadata": {},
   "outputs": [
    {
     "data": {
      "text/plain": [
       "\n",
       "          ? Federal-gov     Private    self-emp      SL-gov  Unemployed \n",
       "       1836         960       22696        3657        3391          21 "
      ]
     },
     "metadata": {},
     "output_type": "display_data"
    }
   ],
   "source": [
    "table(data$type_employer)"
   ]
  },
  {
   "cell_type": "code",
   "execution_count": 15,
   "metadata": {},
   "outputs": [
    {
     "data": {
      "text/plain": [
       "\n",
       "             Divorced     Married-AF-spouse    Married-civ-spouse \n",
       "                 4443                    23                 14976 \n",
       "Married-spouse-absent         Never-married             Separated \n",
       "                  418                 10683                  1025 \n",
       "              Widowed \n",
       "                  993 "
      ]
     },
     "metadata": {},
     "output_type": "display_data"
    }
   ],
   "source": [
    "table(data$marital)"
   ]
  },
  {
   "cell_type": "code",
   "execution_count": 16,
   "metadata": {},
   "outputs": [],
   "source": [
    "group_marital <- function(mar){\n",
    "    mar <- as.character(mar)\n",
    "    if (mar=='Separated' | mar=='Divorced' | mar=='Widowed'){\n",
    "        return('Not-Married')\n",
    "        \n",
    "    }else if(mar=='Never-married'){\n",
    "        return(mar)\n",
    "    }else{\n",
    "        return('Married')\n",
    "    }\n",
    "}"
   ]
  },
  {
   "cell_type": "code",
   "execution_count": 17,
   "metadata": {},
   "outputs": [],
   "source": [
    "data$marital <- sapply(data$marital,group_marital)        "
   ]
  },
  {
   "cell_type": "code",
   "execution_count": 18,
   "metadata": {},
   "outputs": [
    {
     "data": {
      "text/plain": [
       "\n",
       "      Married Never-married   Not-Married \n",
       "        15417         10683          6461 "
      ]
     },
     "metadata": {},
     "output_type": "display_data"
    }
   ],
   "source": [
    "table(data$marital)"
   ]
  },
  {
   "cell_type": "code",
   "execution_count": 19,
   "metadata": {},
   "outputs": [
    {
     "data": {
      "text/plain": [
       "\n",
       "                         ?                   Cambodia \n",
       "                       583                         19 \n",
       "                    Canada                      China \n",
       "                       121                         75 \n",
       "                  Columbia                       Cuba \n",
       "                        59                         95 \n",
       "        Dominican-Republic                    Ecuador \n",
       "                        70                         28 \n",
       "               El-Salvador                    England \n",
       "                       106                         90 \n",
       "                    France                    Germany \n",
       "                        29                        137 \n",
       "                    Greece                  Guatemala \n",
       "                        29                         64 \n",
       "                     Haiti         Holand-Netherlands \n",
       "                        44                          1 \n",
       "                  Honduras                       Hong \n",
       "                        13                         20 \n",
       "                   Hungary                      India \n",
       "                        13                        100 \n",
       "                      Iran                    Ireland \n",
       "                        43                         24 \n",
       "                     Italy                    Jamaica \n",
       "                        73                         81 \n",
       "                     Japan                       Laos \n",
       "                        62                         18 \n",
       "                    Mexico                  Nicaragua \n",
       "                       643                         34 \n",
       "Outlying-US(Guam-USVI-etc)                       Peru \n",
       "                        14                         31 \n",
       "               Philippines                     Poland \n",
       "                       198                         60 \n",
       "                  Portugal                Puerto-Rico \n",
       "                        37                        114 \n",
       "                  Scotland                      South \n",
       "                        12                         80 \n",
       "                    Taiwan                   Thailand \n",
       "                        51                         18 \n",
       "           Trinadad&Tobago              United-States \n",
       "                        19                      29170 \n",
       "                   Vietnam                 Yugoslavia \n",
       "                        67                         16 "
      ]
     },
     "metadata": {},
     "output_type": "display_data"
    }
   ],
   "source": [
    "table(data$country)"
   ]
  },
  {
   "cell_type": "code",
   "execution_count": 20,
   "metadata": {},
   "outputs": [],
   "source": [
    "Asia <- c('China','Hong','India','Iran','Cambodia','Japan', 'Laos' ,\n",
    "          'Philippines' ,'Vietnam' ,'Taiwan', 'Thailand')\n",
    "\n",
    "North.America <- c('Canada','United-States','Puerto-Rico' )\n",
    "\n",
    "Europe <- c('England' ,'France', 'Germany' ,'Greece','Holand-Netherlands','Hungary',\n",
    "            'Ireland','Italy','Poland','Portugal','Scotland','Yugoslavia')\n",
    "\n",
    "Latin.and.South.America <- c('Columbia','Cuba','Dominican-Republic','Ecuador',\n",
    "                             'El-Salvador','Guatemala','Haiti','Honduras',\n",
    "                             'Mexico','Nicaragua','Outlying-US(Guam-USVI-etc)','Peru',\n",
    "                            'Jamaica','Trinadad&Tobago')\n",
    "Other <- c('South')"
   ]
  },
  {
   "cell_type": "code",
   "execution_count": 21,
   "metadata": {},
   "outputs": [],
   "source": [
    "group_country <- function(ctry){\n",
    "    if (ctry %in% Asia){\n",
    "        return('Asia')\n",
    "    }else if (ctry %in% North.America){\n",
    "        return('North.America')\n",
    "    }else if (ctry %in% Europe){\n",
    "        return('Europe')\n",
    "    }else if (ctry %in% Latin.and.South.America){\n",
    "        return('Latin.and.South.America')\n",
    "    }else{\n",
    "        return('Other')      \n",
    "    }\n",
    "}"
   ]
  },
  {
   "cell_type": "code",
   "execution_count": 22,
   "metadata": {},
   "outputs": [],
   "source": [
    "data$country <- sapply(data$country,group_country)"
   ]
  },
  {
   "cell_type": "code",
   "execution_count": 23,
   "metadata": {},
   "outputs": [
    {
     "data": {
      "text/plain": [
       "\n",
       "                   Asia                  Europe Latin.and.South.America \n",
       "                    671                     521                    1301 \n",
       "          North.America                   Other \n",
       "                  29405                     663 "
      ]
     },
     "metadata": {},
     "output_type": "display_data"
    }
   ],
   "source": [
    "table(data$country)"
   ]
  },
  {
   "cell_type": "code",
   "execution_count": 24,
   "metadata": {},
   "outputs": [],
   "source": [
    "data$type_employer <- sapply(data$type_employer,factor)\n",
    "data$country <- sapply(data$country,factor)\n",
    "data$marital <- sapply(data$marital,factor)"
   ]
  },
  {
   "cell_type": "code",
   "execution_count": 25,
   "metadata": {},
   "outputs": [
    {
     "name": "stdout",
     "output_type": "stream",
     "text": [
      "'data.frame':\t32561 obs. of  15 variables:\n",
      " $ age          : int  39 50 38 53 28 37 49 52 31 42 ...\n",
      " $ type_employer: Factor w/ 6 levels \"SL-gov\",\"self-emp\",..: 1 2 3 3 3 3 3 2 3 3 ...\n",
      " $ fnlwgt       : int  77516 83311 215646 234721 338409 284582 160187 209642 45781 159449 ...\n",
      " $ education    : chr  \"Bachelors\" \"Bachelors\" \"HS-grad\" \"11th\" ...\n",
      " $ education_num: int  13 13 9 7 13 14 5 9 14 13 ...\n",
      " $ marital      : Factor w/ 3 levels \"Never-married\",..: 1 2 3 2 2 2 2 2 1 2 ...\n",
      " $ occupation   : chr  \"Adm-clerical\" \"Exec-managerial\" \"Handlers-cleaners\" \"Handlers-cleaners\" ...\n",
      " $ relationship : chr  \"Not-in-family\" \"Husband\" \"Not-in-family\" \"Husband\" ...\n",
      " $ race         : chr  \"White\" \"White\" \"White\" \"Black\" ...\n",
      " $ sex          : chr  \"Male\" \"Male\" \"Male\" \"Male\" ...\n",
      " $ capital_gain : int  2174 0 0 0 0 0 0 0 14084 5178 ...\n",
      " $ capital_loss : int  0 0 0 0 0 0 0 0 0 0 ...\n",
      " $ hr_per_week  : int  40 13 40 40 40 40 16 45 50 40 ...\n",
      " $ country      : Factor w/ 5 levels \"North.America\",..: 1 1 1 1 2 1 2 1 1 1 ...\n",
      " $ income       : chr  \"<=50K\" \"<=50K\" \"<=50K\" \"<=50K\" ...\n"
     ]
    }
   ],
   "source": [
    "str(data)"
   ]
  },
  {
   "cell_type": "code",
   "execution_count": 26,
   "metadata": {},
   "outputs": [
    {
     "data": {
      "text/html": [
       "<table class=\"dataframe\">\n",
       "<caption>A data.frame: 6 × 15</caption>\n",
       "<thead>\n",
       "\t<tr><th></th><th scope=col>age</th><th scope=col>type_employer</th><th scope=col>fnlwgt</th><th scope=col>education</th><th scope=col>education_num</th><th scope=col>marital</th><th scope=col>occupation</th><th scope=col>relationship</th><th scope=col>race</th><th scope=col>sex</th><th scope=col>capital_gain</th><th scope=col>capital_loss</th><th scope=col>hr_per_week</th><th scope=col>country</th><th scope=col>income</th></tr>\n",
       "\t<tr><th></th><th scope=col>&lt;int&gt;</th><th scope=col>&lt;fct&gt;</th><th scope=col>&lt;int&gt;</th><th scope=col>&lt;chr&gt;</th><th scope=col>&lt;int&gt;</th><th scope=col>&lt;fct&gt;</th><th scope=col>&lt;chr&gt;</th><th scope=col>&lt;chr&gt;</th><th scope=col>&lt;chr&gt;</th><th scope=col>&lt;chr&gt;</th><th scope=col>&lt;int&gt;</th><th scope=col>&lt;int&gt;</th><th scope=col>&lt;int&gt;</th><th scope=col>&lt;fct&gt;</th><th scope=col>&lt;chr&gt;</th></tr>\n",
       "</thead>\n",
       "<tbody>\n",
       "\t<tr><th scope=row>1</th><td>39</td><td><span style=white-space:pre-wrap>SL-gov  </span></td><td> 77516</td><td>Bachelors</td><td>13</td><td>Never-married</td><td><span style=white-space:pre-wrap>Adm-clerical     </span></td><td>Not-in-family</td><td>White</td><td><span style=white-space:pre-wrap>Male  </span></td><td>2174</td><td>0</td><td>40</td><td><span style=white-space:pre-wrap>North.America          </span></td><td>&lt;=50K</td></tr>\n",
       "\t<tr><th scope=row>2</th><td>50</td><td>self-emp</td><td> 83311</td><td>Bachelors</td><td>13</td><td><span style=white-space:pre-wrap>Married      </span></td><td><span style=white-space:pre-wrap>Exec-managerial  </span></td><td><span style=white-space:pre-wrap>Husband      </span></td><td>White</td><td><span style=white-space:pre-wrap>Male  </span></td><td><span style=white-space:pre-wrap>   0</span></td><td>0</td><td>13</td><td><span style=white-space:pre-wrap>North.America          </span></td><td>&lt;=50K</td></tr>\n",
       "\t<tr><th scope=row>3</th><td>38</td><td>Private </td><td>215646</td><td><span style=white-space:pre-wrap>HS-grad  </span></td><td> 9</td><td><span style=white-space:pre-wrap>Not-Married  </span></td><td>Handlers-cleaners</td><td>Not-in-family</td><td>White</td><td><span style=white-space:pre-wrap>Male  </span></td><td><span style=white-space:pre-wrap>   0</span></td><td>0</td><td>40</td><td><span style=white-space:pre-wrap>North.America          </span></td><td>&lt;=50K</td></tr>\n",
       "\t<tr><th scope=row>4</th><td>53</td><td>Private </td><td>234721</td><td><span style=white-space:pre-wrap>11th     </span></td><td> 7</td><td><span style=white-space:pre-wrap>Married      </span></td><td>Handlers-cleaners</td><td><span style=white-space:pre-wrap>Husband      </span></td><td>Black</td><td><span style=white-space:pre-wrap>Male  </span></td><td><span style=white-space:pre-wrap>   0</span></td><td>0</td><td>40</td><td><span style=white-space:pre-wrap>North.America          </span></td><td>&lt;=50K</td></tr>\n",
       "\t<tr><th scope=row>5</th><td>28</td><td>Private </td><td>338409</td><td>Bachelors</td><td>13</td><td><span style=white-space:pre-wrap>Married      </span></td><td><span style=white-space:pre-wrap>Prof-specialty   </span></td><td><span style=white-space:pre-wrap>Wife         </span></td><td>Black</td><td>Female</td><td><span style=white-space:pre-wrap>   0</span></td><td>0</td><td>40</td><td>Latin.and.South.America</td><td>&lt;=50K</td></tr>\n",
       "\t<tr><th scope=row>6</th><td>37</td><td>Private </td><td>284582</td><td><span style=white-space:pre-wrap>Masters  </span></td><td>14</td><td><span style=white-space:pre-wrap>Married      </span></td><td><span style=white-space:pre-wrap>Exec-managerial  </span></td><td><span style=white-space:pre-wrap>Wife         </span></td><td>White</td><td>Female</td><td><span style=white-space:pre-wrap>   0</span></td><td>0</td><td>40</td><td><span style=white-space:pre-wrap>North.America          </span></td><td>&lt;=50K</td></tr>\n",
       "</tbody>\n",
       "</table>\n"
      ],
      "text/latex": [
       "A data.frame: 6 × 15\n",
       "\\begin{tabular}{r|lllllllllllllll}\n",
       "  & age & type\\_employer & fnlwgt & education & education\\_num & marital & occupation & relationship & race & sex & capital\\_gain & capital\\_loss & hr\\_per\\_week & country & income\\\\\n",
       "  & <int> & <fct> & <int> & <chr> & <int> & <fct> & <chr> & <chr> & <chr> & <chr> & <int> & <int> & <int> & <fct> & <chr>\\\\\n",
       "\\hline\n",
       "\t1 & 39 & SL-gov   &  77516 & Bachelors & 13 & Never-married & Adm-clerical      & Not-in-family & White & Male   & 2174 & 0 & 40 & North.America           & <=50K\\\\\n",
       "\t2 & 50 & self-emp &  83311 & Bachelors & 13 & Married       & Exec-managerial   & Husband       & White & Male   &    0 & 0 & 13 & North.America           & <=50K\\\\\n",
       "\t3 & 38 & Private  & 215646 & HS-grad   &  9 & Not-Married   & Handlers-cleaners & Not-in-family & White & Male   &    0 & 0 & 40 & North.America           & <=50K\\\\\n",
       "\t4 & 53 & Private  & 234721 & 11th      &  7 & Married       & Handlers-cleaners & Husband       & Black & Male   &    0 & 0 & 40 & North.America           & <=50K\\\\\n",
       "\t5 & 28 & Private  & 338409 & Bachelors & 13 & Married       & Prof-specialty    & Wife          & Black & Female &    0 & 0 & 40 & Latin.and.South.America & <=50K\\\\\n",
       "\t6 & 37 & Private  & 284582 & Masters   & 14 & Married       & Exec-managerial   & Wife          & White & Female &    0 & 0 & 40 & North.America           & <=50K\\\\\n",
       "\\end{tabular}\n"
      ],
      "text/markdown": [
       "\n",
       "A data.frame: 6 × 15\n",
       "\n",
       "| <!--/--> | age &lt;int&gt; | type_employer &lt;fct&gt; | fnlwgt &lt;int&gt; | education &lt;chr&gt; | education_num &lt;int&gt; | marital &lt;fct&gt; | occupation &lt;chr&gt; | relationship &lt;chr&gt; | race &lt;chr&gt; | sex &lt;chr&gt; | capital_gain &lt;int&gt; | capital_loss &lt;int&gt; | hr_per_week &lt;int&gt; | country &lt;fct&gt; | income &lt;chr&gt; |\n",
       "|---|---|---|---|---|---|---|---|---|---|---|---|---|---|---|---|\n",
       "| 1 | 39 | SL-gov   |  77516 | Bachelors | 13 | Never-married | Adm-clerical      | Not-in-family | White | Male   | 2174 | 0 | 40 | North.America           | &lt;=50K |\n",
       "| 2 | 50 | self-emp |  83311 | Bachelors | 13 | Married       | Exec-managerial   | Husband       | White | Male   |    0 | 0 | 13 | North.America           | &lt;=50K |\n",
       "| 3 | 38 | Private  | 215646 | HS-grad   |  9 | Not-Married   | Handlers-cleaners | Not-in-family | White | Male   |    0 | 0 | 40 | North.America           | &lt;=50K |\n",
       "| 4 | 53 | Private  | 234721 | 11th      |  7 | Married       | Handlers-cleaners | Husband       | Black | Male   |    0 | 0 | 40 | North.America           | &lt;=50K |\n",
       "| 5 | 28 | Private  | 338409 | Bachelors | 13 | Married       | Prof-specialty    | Wife          | Black | Female |    0 | 0 | 40 | Latin.and.South.America | &lt;=50K |\n",
       "| 6 | 37 | Private  | 284582 | Masters   | 14 | Married       | Exec-managerial   | Wife          | White | Female |    0 | 0 | 40 | North.America           | &lt;=50K |\n",
       "\n"
      ],
      "text/plain": [
       "  age type_employer fnlwgt education education_num marital      \n",
       "1 39  SL-gov         77516 Bachelors 13            Never-married\n",
       "2 50  self-emp       83311 Bachelors 13            Married      \n",
       "3 38  Private       215646 HS-grad    9            Not-Married  \n",
       "4 53  Private       234721 11th       7            Married      \n",
       "5 28  Private       338409 Bachelors 13            Married      \n",
       "6 37  Private       284582 Masters   14            Married      \n",
       "  occupation        relationship  race  sex    capital_gain capital_loss\n",
       "1 Adm-clerical      Not-in-family White Male   2174         0           \n",
       "2 Exec-managerial   Husband       White Male      0         0           \n",
       "3 Handlers-cleaners Not-in-family White Male      0         0           \n",
       "4 Handlers-cleaners Husband       Black Male      0         0           \n",
       "5 Prof-specialty    Wife          Black Female    0         0           \n",
       "6 Exec-managerial   Wife          White Female    0         0           \n",
       "  hr_per_week country                 income\n",
       "1 40          North.America           <=50K \n",
       "2 13          North.America           <=50K \n",
       "3 40          North.America           <=50K \n",
       "4 40          North.America           <=50K \n",
       "5 40          Latin.and.South.America <=50K \n",
       "6 40          North.America           <=50K "
      ]
     },
     "metadata": {},
     "output_type": "display_data"
    }
   ],
   "source": [
    "head(data)"
   ]
  },
  {
   "cell_type": "code",
   "execution_count": 27,
   "metadata": {},
   "outputs": [
    {
     "name": "stderr",
     "output_type": "stream",
     "text": [
      "Loading required package: Rcpp\n",
      "\n",
      "## \n",
      "## Amelia II: Multiple Imputation\n",
      "## (Version 1.7.6, built: 2019-11-24)\n",
      "## Copyright (C) 2005-2021 James Honaker, Gary King and Matthew Blackwell\n",
      "## Refer to http://gking.harvard.edu/amelia/ for more information\n",
      "## \n",
      "\n"
     ]
    }
   ],
   "source": [
    "library(Amelia)"
   ]
  },
  {
   "cell_type": "code",
   "execution_count": 28,
   "metadata": {},
   "outputs": [],
   "source": [
    "data[data==\"?\"] <- NA"
   ]
  },
  {
   "cell_type": "code",
   "execution_count": 29,
   "metadata": {},
   "outputs": [
    {
     "data": {
      "text/html": [
       "<table class=\"dataframe\">\n",
       "<caption>A data.frame: 6 × 15</caption>\n",
       "<thead>\n",
       "\t<tr><th></th><th scope=col>age</th><th scope=col>type_employer</th><th scope=col>fnlwgt</th><th scope=col>education</th><th scope=col>education_num</th><th scope=col>marital</th><th scope=col>occupation</th><th scope=col>relationship</th><th scope=col>race</th><th scope=col>sex</th><th scope=col>capital_gain</th><th scope=col>capital_loss</th><th scope=col>hr_per_week</th><th scope=col>country</th><th scope=col>income</th></tr>\n",
       "\t<tr><th></th><th scope=col>&lt;int&gt;</th><th scope=col>&lt;fct&gt;</th><th scope=col>&lt;int&gt;</th><th scope=col>&lt;chr&gt;</th><th scope=col>&lt;int&gt;</th><th scope=col>&lt;fct&gt;</th><th scope=col>&lt;chr&gt;</th><th scope=col>&lt;chr&gt;</th><th scope=col>&lt;chr&gt;</th><th scope=col>&lt;chr&gt;</th><th scope=col>&lt;int&gt;</th><th scope=col>&lt;int&gt;</th><th scope=col>&lt;int&gt;</th><th scope=col>&lt;fct&gt;</th><th scope=col>&lt;chr&gt;</th></tr>\n",
       "</thead>\n",
       "<tbody>\n",
       "\t<tr><th scope=row>1</th><td>39</td><td><span style=white-space:pre-wrap>SL-gov  </span></td><td> 77516</td><td>Bachelors</td><td>13</td><td>Never-married</td><td><span style=white-space:pre-wrap>Adm-clerical     </span></td><td>Not-in-family</td><td>White</td><td><span style=white-space:pre-wrap>Male  </span></td><td>2174</td><td>0</td><td>40</td><td><span style=white-space:pre-wrap>North.America          </span></td><td>&lt;=50K</td></tr>\n",
       "\t<tr><th scope=row>2</th><td>50</td><td>self-emp</td><td> 83311</td><td>Bachelors</td><td>13</td><td><span style=white-space:pre-wrap>Married      </span></td><td><span style=white-space:pre-wrap>Exec-managerial  </span></td><td><span style=white-space:pre-wrap>Husband      </span></td><td>White</td><td><span style=white-space:pre-wrap>Male  </span></td><td><span style=white-space:pre-wrap>   0</span></td><td>0</td><td>13</td><td><span style=white-space:pre-wrap>North.America          </span></td><td>&lt;=50K</td></tr>\n",
       "\t<tr><th scope=row>3</th><td>38</td><td>Private </td><td>215646</td><td><span style=white-space:pre-wrap>HS-grad  </span></td><td> 9</td><td><span style=white-space:pre-wrap>Not-Married  </span></td><td>Handlers-cleaners</td><td>Not-in-family</td><td>White</td><td><span style=white-space:pre-wrap>Male  </span></td><td><span style=white-space:pre-wrap>   0</span></td><td>0</td><td>40</td><td><span style=white-space:pre-wrap>North.America          </span></td><td>&lt;=50K</td></tr>\n",
       "\t<tr><th scope=row>4</th><td>53</td><td>Private </td><td>234721</td><td><span style=white-space:pre-wrap>11th     </span></td><td> 7</td><td><span style=white-space:pre-wrap>Married      </span></td><td>Handlers-cleaners</td><td><span style=white-space:pre-wrap>Husband      </span></td><td>Black</td><td><span style=white-space:pre-wrap>Male  </span></td><td><span style=white-space:pre-wrap>   0</span></td><td>0</td><td>40</td><td><span style=white-space:pre-wrap>North.America          </span></td><td>&lt;=50K</td></tr>\n",
       "\t<tr><th scope=row>5</th><td>28</td><td>Private </td><td>338409</td><td>Bachelors</td><td>13</td><td><span style=white-space:pre-wrap>Married      </span></td><td><span style=white-space:pre-wrap>Prof-specialty   </span></td><td><span style=white-space:pre-wrap>Wife         </span></td><td>Black</td><td>Female</td><td><span style=white-space:pre-wrap>   0</span></td><td>0</td><td>40</td><td>Latin.and.South.America</td><td>&lt;=50K</td></tr>\n",
       "\t<tr><th scope=row>6</th><td>37</td><td>Private </td><td>284582</td><td><span style=white-space:pre-wrap>Masters  </span></td><td>14</td><td><span style=white-space:pre-wrap>Married      </span></td><td><span style=white-space:pre-wrap>Exec-managerial  </span></td><td><span style=white-space:pre-wrap>Wife         </span></td><td>White</td><td>Female</td><td><span style=white-space:pre-wrap>   0</span></td><td>0</td><td>40</td><td><span style=white-space:pre-wrap>North.America          </span></td><td>&lt;=50K</td></tr>\n",
       "</tbody>\n",
       "</table>\n"
      ],
      "text/latex": [
       "A data.frame: 6 × 15\n",
       "\\begin{tabular}{r|lllllllllllllll}\n",
       "  & age & type\\_employer & fnlwgt & education & education\\_num & marital & occupation & relationship & race & sex & capital\\_gain & capital\\_loss & hr\\_per\\_week & country & income\\\\\n",
       "  & <int> & <fct> & <int> & <chr> & <int> & <fct> & <chr> & <chr> & <chr> & <chr> & <int> & <int> & <int> & <fct> & <chr>\\\\\n",
       "\\hline\n",
       "\t1 & 39 & SL-gov   &  77516 & Bachelors & 13 & Never-married & Adm-clerical      & Not-in-family & White & Male   & 2174 & 0 & 40 & North.America           & <=50K\\\\\n",
       "\t2 & 50 & self-emp &  83311 & Bachelors & 13 & Married       & Exec-managerial   & Husband       & White & Male   &    0 & 0 & 13 & North.America           & <=50K\\\\\n",
       "\t3 & 38 & Private  & 215646 & HS-grad   &  9 & Not-Married   & Handlers-cleaners & Not-in-family & White & Male   &    0 & 0 & 40 & North.America           & <=50K\\\\\n",
       "\t4 & 53 & Private  & 234721 & 11th      &  7 & Married       & Handlers-cleaners & Husband       & Black & Male   &    0 & 0 & 40 & North.America           & <=50K\\\\\n",
       "\t5 & 28 & Private  & 338409 & Bachelors & 13 & Married       & Prof-specialty    & Wife          & Black & Female &    0 & 0 & 40 & Latin.and.South.America & <=50K\\\\\n",
       "\t6 & 37 & Private  & 284582 & Masters   & 14 & Married       & Exec-managerial   & Wife          & White & Female &    0 & 0 & 40 & North.America           & <=50K\\\\\n",
       "\\end{tabular}\n"
      ],
      "text/markdown": [
       "\n",
       "A data.frame: 6 × 15\n",
       "\n",
       "| <!--/--> | age &lt;int&gt; | type_employer &lt;fct&gt; | fnlwgt &lt;int&gt; | education &lt;chr&gt; | education_num &lt;int&gt; | marital &lt;fct&gt; | occupation &lt;chr&gt; | relationship &lt;chr&gt; | race &lt;chr&gt; | sex &lt;chr&gt; | capital_gain &lt;int&gt; | capital_loss &lt;int&gt; | hr_per_week &lt;int&gt; | country &lt;fct&gt; | income &lt;chr&gt; |\n",
       "|---|---|---|---|---|---|---|---|---|---|---|---|---|---|---|---|\n",
       "| 1 | 39 | SL-gov   |  77516 | Bachelors | 13 | Never-married | Adm-clerical      | Not-in-family | White | Male   | 2174 | 0 | 40 | North.America           | &lt;=50K |\n",
       "| 2 | 50 | self-emp |  83311 | Bachelors | 13 | Married       | Exec-managerial   | Husband       | White | Male   |    0 | 0 | 13 | North.America           | &lt;=50K |\n",
       "| 3 | 38 | Private  | 215646 | HS-grad   |  9 | Not-Married   | Handlers-cleaners | Not-in-family | White | Male   |    0 | 0 | 40 | North.America           | &lt;=50K |\n",
       "| 4 | 53 | Private  | 234721 | 11th      |  7 | Married       | Handlers-cleaners | Husband       | Black | Male   |    0 | 0 | 40 | North.America           | &lt;=50K |\n",
       "| 5 | 28 | Private  | 338409 | Bachelors | 13 | Married       | Prof-specialty    | Wife          | Black | Female |    0 | 0 | 40 | Latin.and.South.America | &lt;=50K |\n",
       "| 6 | 37 | Private  | 284582 | Masters   | 14 | Married       | Exec-managerial   | Wife          | White | Female |    0 | 0 | 40 | North.America           | &lt;=50K |\n",
       "\n"
      ],
      "text/plain": [
       "  age type_employer fnlwgt education education_num marital      \n",
       "1 39  SL-gov         77516 Bachelors 13            Never-married\n",
       "2 50  self-emp       83311 Bachelors 13            Married      \n",
       "3 38  Private       215646 HS-grad    9            Not-Married  \n",
       "4 53  Private       234721 11th       7            Married      \n",
       "5 28  Private       338409 Bachelors 13            Married      \n",
       "6 37  Private       284582 Masters   14            Married      \n",
       "  occupation        relationship  race  sex    capital_gain capital_loss\n",
       "1 Adm-clerical      Not-in-family White Male   2174         0           \n",
       "2 Exec-managerial   Husband       White Male      0         0           \n",
       "3 Handlers-cleaners Not-in-family White Male      0         0           \n",
       "4 Handlers-cleaners Husband       Black Male      0         0           \n",
       "5 Prof-specialty    Wife          Black Female    0         0           \n",
       "6 Exec-managerial   Wife          White Female    0         0           \n",
       "  hr_per_week country                 income\n",
       "1 40          North.America           <=50K \n",
       "2 13          North.America           <=50K \n",
       "3 40          North.America           <=50K \n",
       "4 40          North.America           <=50K \n",
       "5 40          Latin.and.South.America <=50K \n",
       "6 40          North.America           <=50K "
      ]
     },
     "metadata": {},
     "output_type": "display_data"
    }
   ],
   "source": [
    "head(data)"
   ]
  },
  {
   "cell_type": "code",
   "execution_count": 30,
   "metadata": {},
   "outputs": [
    {
     "data": {
      "text/plain": [
       "\n",
       "     SL-gov    self-emp     Private Federal-gov           ?  Unemployed \n",
       "       3391        3657       22696         960           0          21 "
      ]
     },
     "metadata": {},
     "output_type": "display_data"
    }
   ],
   "source": [
    "table(data$type_employer)"
   ]
  },
  {
   "cell_type": "code",
   "execution_count": 31,
   "metadata": {},
   "outputs": [],
   "source": [
    "data$type_employer <- sapply(data$type_employer,factor)\n",
    "data$country <- sapply(data$country,factor)\n",
    "data$marital <- sapply(data$marital,factor)\n",
    "data$occupation <- sapply(data$occupation,factor)"
   ]
  },
  {
   "cell_type": "code",
   "execution_count": 32,
   "metadata": {},
   "outputs": [
    {
     "data": {
      "image/png": "[encoded data removed]",
      "text/plain": [
       "Plot with title \"Missing Map\""
      ]
     },
     "metadata": {
      "image/png": {
       "height": 420,
       "width": 420
      }
     },
     "output_type": "display_data"
    }
   ],
   "source": [
    "missmap(data,main = \"Missing Map\",col=c(\"yellow\",\"black\"),legend = T)"
   ]
  },
  {
   "cell_type": "code",
   "execution_count": 33,
   "metadata": {},
   "outputs": [],
   "source": [
    "data <- na.omit(data)"
   ]
  },
  {
   "cell_type": "code",
   "execution_count": 34,
   "metadata": {},
   "outputs": [
    {
     "data": {
      "image/png": "[encoded data removed]",
      "text/plain": [
       "Plot with title \"Missing Map\""
      ]
     },
     "metadata": {
      "image/png": {
       "height": 420,
       "width": 420
      }
     },
     "output_type": "display_data"
    }
   ],
   "source": [
    "missmap(data,main = \"Missing Map\",col=c(\"yellow\",\"black\"),legend = T)"
   ]
  },
  {
   "cell_type": "code",
   "execution_count": 35,
   "metadata": {},
   "outputs": [],
   "source": [
    "library(ggplot2)\n",
    "library(dplyr)"
   ]
  },
  {
   "cell_type": "code",
   "execution_count": 36,
   "metadata": {},
   "outputs": [
    {
     "data": {
      "image/png": "[encoded data removed]",
      "text/plain": [
       "plot without title"
      ]
     },
     "metadata": {
      "image/png": {
       "height": 420,
       "width": 420
      }
     },
     "output_type": "display_data"
    }
   ],
   "source": [
    "r <- ggplot(data,aes(age))+geom_histogram(aes(fill=income),color=\"black\",binwidth = 1)+theme_bw()\n",
    "r"
   ]
  },
  {
   "cell_type": "code",
   "execution_count": 37,
   "metadata": {},
   "outputs": [
    {
     "name": "stderr",
     "output_type": "stream",
     "text": [
      "`stat_bin()` using `bins = 30`. Pick better value with `binwidth`.\n",
      "\n"
     ]
    },
    {
     "data": {
      "image/png": "[encoded data removed]",
      "text/plain": [
       "plot without title"
      ]
     },
     "metadata": {
      "image/png": {
       "height": 420,
       "width": 420
      }
     },
     "output_type": "display_data"
    }
   ],
   "source": [
    "r <- ggplot(data,aes(hr_per_week)) + geom_histogram(aes(fill=income),color=\"black\") + theme_bw()\n",
    "r"
   ]
  },
  {
   "cell_type": "code",
   "execution_count": 38,
   "metadata": {},
   "outputs": [],
   "source": [
    "data <- rename(data,region=country)"
   ]
  },
  {
   "cell_type": "code",
   "execution_count": 39,
   "metadata": {},
   "outputs": [
    {
     "data": {
      "image/png": "[encoded data removed]",
      "text/plain": [
       "plot without title"
      ]
     },
     "metadata": {
      "image/png": {
       "height": 420,
       "width": 420
      }
     },
     "output_type": "display_data"
    }
   ],
   "source": [
    "r <- ggplot(data,aes(region)) + geom_bar(aes(fill=income),color='black')+theme_bw()\n",
    "r <- r + theme(axis.text.x = element_text(angle = 90, hjust = 1))\n",
    "r"
   ]
  },
  {
   "cell_type": "code",
   "execution_count": 40,
   "metadata": {},
   "outputs": [
    {
     "data": {
      "text/html": [
       "<table class=\"dataframe\">\n",
       "<caption>A data.frame: 6 × 15</caption>\n",
       "<thead>\n",
       "\t<tr><th></th><th scope=col>age</th><th scope=col>type_employer</th><th scope=col>fnlwgt</th><th scope=col>education</th><th scope=col>education_num</th><th scope=col>marital</th><th scope=col>occupation</th><th scope=col>relationship</th><th scope=col>race</th><th scope=col>sex</th><th scope=col>capital_gain</th><th scope=col>capital_loss</th><th scope=col>hr_per_week</th><th scope=col>region</th><th scope=col>income</th></tr>\n",
       "\t<tr><th></th><th scope=col>&lt;int&gt;</th><th scope=col>&lt;fct&gt;</th><th scope=col>&lt;int&gt;</th><th scope=col>&lt;chr&gt;</th><th scope=col>&lt;int&gt;</th><th scope=col>&lt;fct&gt;</th><th scope=col>&lt;fct&gt;</th><th scope=col>&lt;chr&gt;</th><th scope=col>&lt;chr&gt;</th><th scope=col>&lt;chr&gt;</th><th scope=col>&lt;int&gt;</th><th scope=col>&lt;int&gt;</th><th scope=col>&lt;int&gt;</th><th scope=col>&lt;fct&gt;</th><th scope=col>&lt;chr&gt;</th></tr>\n",
       "</thead>\n",
       "<tbody>\n",
       "\t<tr><th scope=row>1</th><td>39</td><td><span style=white-space:pre-wrap>SL-gov  </span></td><td> 77516</td><td>Bachelors</td><td>13</td><td>Never-married</td><td><span style=white-space:pre-wrap>Adm-clerical     </span></td><td>Not-in-family</td><td>White</td><td><span style=white-space:pre-wrap>Male  </span></td><td>2174</td><td>0</td><td>40</td><td><span style=white-space:pre-wrap>North.America          </span></td><td>&lt;=50K</td></tr>\n",
       "\t<tr><th scope=row>2</th><td>50</td><td>self-emp</td><td> 83311</td><td>Bachelors</td><td>13</td><td><span style=white-space:pre-wrap>Married      </span></td><td><span style=white-space:pre-wrap>Exec-managerial  </span></td><td><span style=white-space:pre-wrap>Husband      </span></td><td>White</td><td><span style=white-space:pre-wrap>Male  </span></td><td><span style=white-space:pre-wrap>   0</span></td><td>0</td><td>13</td><td><span style=white-space:pre-wrap>North.America          </span></td><td>&lt;=50K</td></tr>\n",
       "\t<tr><th scope=row>3</th><td>38</td><td>Private </td><td>215646</td><td><span style=white-space:pre-wrap>HS-grad  </span></td><td> 9</td><td><span style=white-space:pre-wrap>Not-Married  </span></td><td>Handlers-cleaners</td><td>Not-in-family</td><td>White</td><td><span style=white-space:pre-wrap>Male  </span></td><td><span style=white-space:pre-wrap>   0</span></td><td>0</td><td>40</td><td><span style=white-space:pre-wrap>North.America          </span></td><td>&lt;=50K</td></tr>\n",
       "\t<tr><th scope=row>4</th><td>53</td><td>Private </td><td>234721</td><td><span style=white-space:pre-wrap>11th     </span></td><td> 7</td><td><span style=white-space:pre-wrap>Married      </span></td><td>Handlers-cleaners</td><td><span style=white-space:pre-wrap>Husband      </span></td><td>Black</td><td><span style=white-space:pre-wrap>Male  </span></td><td><span style=white-space:pre-wrap>   0</span></td><td>0</td><td>40</td><td><span style=white-space:pre-wrap>North.America          </span></td><td>&lt;=50K</td></tr>\n",
       "\t<tr><th scope=row>5</th><td>28</td><td>Private </td><td>338409</td><td>Bachelors</td><td>13</td><td><span style=white-space:pre-wrap>Married      </span></td><td><span style=white-space:pre-wrap>Prof-specialty   </span></td><td><span style=white-space:pre-wrap>Wife         </span></td><td>Black</td><td>Female</td><td><span style=white-space:pre-wrap>   0</span></td><td>0</td><td>40</td><td>Latin.and.South.America</td><td>&lt;=50K</td></tr>\n",
       "\t<tr><th scope=row>6</th><td>37</td><td>Private </td><td>284582</td><td><span style=white-space:pre-wrap>Masters  </span></td><td>14</td><td><span style=white-space:pre-wrap>Married      </span></td><td><span style=white-space:pre-wrap>Exec-managerial  </span></td><td><span style=white-space:pre-wrap>Wife         </span></td><td>White</td><td>Female</td><td><span style=white-space:pre-wrap>   0</span></td><td>0</td><td>40</td><td><span style=white-space:pre-wrap>North.America          </span></td><td>&lt;=50K</td></tr>\n",
       "</tbody>\n",
       "</table>\n"
      ],
      "text/latex": [
       "A data.frame: 6 × 15\n",
       "\\begin{tabular}{r|lllllllllllllll}\n",
       "  & age & type\\_employer & fnlwgt & education & education\\_num & marital & occupation & relationship & race & sex & capital\\_gain & capital\\_loss & hr\\_per\\_week & region & income\\\\\n",
       "  & <int> & <fct> & <int> & <chr> & <int> & <fct> & <fct> & <chr> & <chr> & <chr> & <int> & <int> & <int> & <fct> & <chr>\\\\\n",
       "\\hline\n",
       "\t1 & 39 & SL-gov   &  77516 & Bachelors & 13 & Never-married & Adm-clerical      & Not-in-family & White & Male   & 2174 & 0 & 40 & North.America           & <=50K\\\\\n",
       "\t2 & 50 & self-emp &  83311 & Bachelors & 13 & Married       & Exec-managerial   & Husband       & White & Male   &    0 & 0 & 13 & North.America           & <=50K\\\\\n",
       "\t3 & 38 & Private  & 215646 & HS-grad   &  9 & Not-Married   & Handlers-cleaners & Not-in-family & White & Male   &    0 & 0 & 40 & North.America           & <=50K\\\\\n",
       "\t4 & 53 & Private  & 234721 & 11th      &  7 & Married       & Handlers-cleaners & Husband       & Black & Male   &    0 & 0 & 40 & North.America           & <=50K\\\\\n",
       "\t5 & 28 & Private  & 338409 & Bachelors & 13 & Married       & Prof-specialty    & Wife          & Black & Female &    0 & 0 & 40 & Latin.and.South.America & <=50K\\\\\n",
       "\t6 & 37 & Private  & 284582 & Masters   & 14 & Married       & Exec-managerial   & Wife          & White & Female &    0 & 0 & 40 & North.America           & <=50K\\\\\n",
       "\\end{tabular}\n"
      ],
      "text/markdown": [
       "\n",
       "A data.frame: 6 × 15\n",
       "\n",
       "| <!--/--> | age &lt;int&gt; | type_employer &lt;fct&gt; | fnlwgt &lt;int&gt; | education &lt;chr&gt; | education_num &lt;int&gt; | marital &lt;fct&gt; | occupation &lt;fct&gt; | relationship &lt;chr&gt; | race &lt;chr&gt; | sex &lt;chr&gt; | capital_gain &lt;int&gt; | capital_loss &lt;int&gt; | hr_per_week &lt;int&gt; | region &lt;fct&gt; | income &lt;chr&gt; |\n",
       "|---|---|---|---|---|---|---|---|---|---|---|---|---|---|---|---|\n",
       "| 1 | 39 | SL-gov   |  77516 | Bachelors | 13 | Never-married | Adm-clerical      | Not-in-family | White | Male   | 2174 | 0 | 40 | North.America           | &lt;=50K |\n",
       "| 2 | 50 | self-emp |  83311 | Bachelors | 13 | Married       | Exec-managerial   | Husband       | White | Male   |    0 | 0 | 13 | North.America           | &lt;=50K |\n",
       "| 3 | 38 | Private  | 215646 | HS-grad   |  9 | Not-Married   | Handlers-cleaners | Not-in-family | White | Male   |    0 | 0 | 40 | North.America           | &lt;=50K |\n",
       "| 4 | 53 | Private  | 234721 | 11th      |  7 | Married       | Handlers-cleaners | Husband       | Black | Male   |    0 | 0 | 40 | North.America           | &lt;=50K |\n",
       "| 5 | 28 | Private  | 338409 | Bachelors | 13 | Married       | Prof-specialty    | Wife          | Black | Female |    0 | 0 | 40 | Latin.and.South.America | &lt;=50K |\n",
       "| 6 | 37 | Private  | 284582 | Masters   | 14 | Married       | Exec-managerial   | Wife          | White | Female |    0 | 0 | 40 | North.America           | &lt;=50K |\n",
       "\n"
      ],
      "text/plain": [
       "  age type_employer fnlwgt education education_num marital      \n",
       "1 39  SL-gov         77516 Bachelors 13            Never-married\n",
       "2 50  self-emp       83311 Bachelors 13            Married      \n",
       "3 38  Private       215646 HS-grad    9            Not-Married  \n",
       "4 53  Private       234721 11th       7            Married      \n",
       "5 28  Private       338409 Bachelors 13            Married      \n",
       "6 37  Private       284582 Masters   14            Married      \n",
       "  occupation        relationship  race  sex    capital_gain capital_loss\n",
       "1 Adm-clerical      Not-in-family White Male   2174         0           \n",
       "2 Exec-managerial   Husband       White Male      0         0           \n",
       "3 Handlers-cleaners Not-in-family White Male      0         0           \n",
       "4 Handlers-cleaners Husband       Black Male      0         0           \n",
       "5 Prof-specialty    Wife          Black Female    0         0           \n",
       "6 Exec-managerial   Wife          White Female    0         0           \n",
       "  hr_per_week region                  income\n",
       "1 40          North.America           <=50K \n",
       "2 13          North.America           <=50K \n",
       "3 40          North.America           <=50K \n",
       "4 40          North.America           <=50K \n",
       "5 40          Latin.and.South.America <=50K \n",
       "6 40          North.America           <=50K "
      ]
     },
     "metadata": {},
     "output_type": "display_data"
    }
   ],
   "source": [
    "head(data)"
   ]
  },
  {
   "cell_type": "code",
   "execution_count": 41,
   "metadata": {},
   "outputs": [],
   "source": [
    "data$income <- sapply(data$income,factor)"
   ]
  },
  {
   "cell_type": "code",
   "execution_count": 42,
   "metadata": {},
   "outputs": [
    {
     "data": {
      "text/html": [
       "<table class=\"dataframe\">\n",
       "<caption>A data.frame: 6 × 15</caption>\n",
       "<thead>\n",
       "\t<tr><th></th><th scope=col>age</th><th scope=col>type_employer</th><th scope=col>fnlwgt</th><th scope=col>education</th><th scope=col>education_num</th><th scope=col>marital</th><th scope=col>occupation</th><th scope=col>relationship</th><th scope=col>race</th><th scope=col>sex</th><th scope=col>capital_gain</th><th scope=col>capital_loss</th><th scope=col>hr_per_week</th><th scope=col>region</th><th scope=col>income</th></tr>\n",
       "\t<tr><th></th><th scope=col>&lt;int&gt;</th><th scope=col>&lt;fct&gt;</th><th scope=col>&lt;int&gt;</th><th scope=col>&lt;chr&gt;</th><th scope=col>&lt;int&gt;</th><th scope=col>&lt;fct&gt;</th><th scope=col>&lt;fct&gt;</th><th scope=col>&lt;chr&gt;</th><th scope=col>&lt;chr&gt;</th><th scope=col>&lt;chr&gt;</th><th scope=col>&lt;int&gt;</th><th scope=col>&lt;int&gt;</th><th scope=col>&lt;int&gt;</th><th scope=col>&lt;fct&gt;</th><th scope=col>&lt;fct&gt;</th></tr>\n",
       "</thead>\n",
       "<tbody>\n",
       "\t<tr><th scope=row>1</th><td>39</td><td><span style=white-space:pre-wrap>SL-gov  </span></td><td> 77516</td><td>Bachelors</td><td>13</td><td>Never-married</td><td><span style=white-space:pre-wrap>Adm-clerical     </span></td><td>Not-in-family</td><td>White</td><td><span style=white-space:pre-wrap>Male  </span></td><td>2174</td><td>0</td><td>40</td><td><span style=white-space:pre-wrap>North.America          </span></td><td>&lt;=50K</td></tr>\n",
       "\t<tr><th scope=row>2</th><td>50</td><td>self-emp</td><td> 83311</td><td>Bachelors</td><td>13</td><td><span style=white-space:pre-wrap>Married      </span></td><td><span style=white-space:pre-wrap>Exec-managerial  </span></td><td><span style=white-space:pre-wrap>Husband      </span></td><td>White</td><td><span style=white-space:pre-wrap>Male  </span></td><td><span style=white-space:pre-wrap>   0</span></td><td>0</td><td>13</td><td><span style=white-space:pre-wrap>North.America          </span></td><td>&lt;=50K</td></tr>\n",
       "\t<tr><th scope=row>3</th><td>38</td><td>Private </td><td>215646</td><td><span style=white-space:pre-wrap>HS-grad  </span></td><td> 9</td><td><span style=white-space:pre-wrap>Not-Married  </span></td><td>Handlers-cleaners</td><td>Not-in-family</td><td>White</td><td><span style=white-space:pre-wrap>Male  </span></td><td><span style=white-space:pre-wrap>   0</span></td><td>0</td><td>40</td><td><span style=white-space:pre-wrap>North.America          </span></td><td>&lt;=50K</td></tr>\n",
       "\t<tr><th scope=row>4</th><td>53</td><td>Private </td><td>234721</td><td><span style=white-space:pre-wrap>11th     </span></td><td> 7</td><td><span style=white-space:pre-wrap>Married      </span></td><td>Handlers-cleaners</td><td><span style=white-space:pre-wrap>Husband      </span></td><td>Black</td><td><span style=white-space:pre-wrap>Male  </span></td><td><span style=white-space:pre-wrap>   0</span></td><td>0</td><td>40</td><td><span style=white-space:pre-wrap>North.America          </span></td><td>&lt;=50K</td></tr>\n",
       "\t<tr><th scope=row>5</th><td>28</td><td>Private </td><td>338409</td><td>Bachelors</td><td>13</td><td><span style=white-space:pre-wrap>Married      </span></td><td><span style=white-space:pre-wrap>Prof-specialty   </span></td><td><span style=white-space:pre-wrap>Wife         </span></td><td>Black</td><td>Female</td><td><span style=white-space:pre-wrap>   0</span></td><td>0</td><td>40</td><td>Latin.and.South.America</td><td>&lt;=50K</td></tr>\n",
       "\t<tr><th scope=row>6</th><td>37</td><td>Private </td><td>284582</td><td><span style=white-space:pre-wrap>Masters  </span></td><td>14</td><td><span style=white-space:pre-wrap>Married      </span></td><td><span style=white-space:pre-wrap>Exec-managerial  </span></td><td><span style=white-space:pre-wrap>Wife         </span></td><td>White</td><td>Female</td><td><span style=white-space:pre-wrap>   0</span></td><td>0</td><td>40</td><td><span style=white-space:pre-wrap>North.America          </span></td><td>&lt;=50K</td></tr>\n",
       "</tbody>\n",
       "</table>\n"
      ],
      "text/latex": [
       "A data.frame: 6 × 15\n",
       "\\begin{tabular}{r|lllllllllllllll}\n",
       "  & age & type\\_employer & fnlwgt & education & education\\_num & marital & occupation & relationship & race & sex & capital\\_gain & capital\\_loss & hr\\_per\\_week & region & income\\\\\n",
       "  & <int> & <fct> & <int> & <chr> & <int> & <fct> & <fct> & <chr> & <chr> & <chr> & <int> & <int> & <int> & <fct> & <fct>\\\\\n",
       "\\hline\n",
       "\t1 & 39 & SL-gov   &  77516 & Bachelors & 13 & Never-married & Adm-clerical      & Not-in-family & White & Male   & 2174 & 0 & 40 & North.America           & <=50K\\\\\n",
       "\t2 & 50 & self-emp &  83311 & Bachelors & 13 & Married       & Exec-managerial   & Husband       & White & Male   &    0 & 0 & 13 & North.America           & <=50K\\\\\n",
       "\t3 & 38 & Private  & 215646 & HS-grad   &  9 & Not-Married   & Handlers-cleaners & Not-in-family & White & Male   &    0 & 0 & 40 & North.America           & <=50K\\\\\n",
       "\t4 & 53 & Private  & 234721 & 11th      &  7 & Married       & Handlers-cleaners & Husband       & Black & Male   &    0 & 0 & 40 & North.America           & <=50K\\\\\n",
       "\t5 & 28 & Private  & 338409 & Bachelors & 13 & Married       & Prof-specialty    & Wife          & Black & Female &    0 & 0 & 40 & Latin.and.South.America & <=50K\\\\\n",
       "\t6 & 37 & Private  & 284582 & Masters   & 14 & Married       & Exec-managerial   & Wife          & White & Female &    0 & 0 & 40 & North.America           & <=50K\\\\\n",
       "\\end{tabular}\n"
      ],
      "text/markdown": [
       "\n",
       "A data.frame: 6 × 15\n",
       "\n",
       "| <!--/--> | age &lt;int&gt; | type_employer &lt;fct&gt; | fnlwgt &lt;int&gt; | education &lt;chr&gt; | education_num &lt;int&gt; | marital &lt;fct&gt; | occupation &lt;fct&gt; | relationship &lt;chr&gt; | race &lt;chr&gt; | sex &lt;chr&gt; | capital_gain &lt;int&gt; | capital_loss &lt;int&gt; | hr_per_week &lt;int&gt; | region &lt;fct&gt; | income &lt;fct&gt; |\n",
       "|---|---|---|---|---|---|---|---|---|---|---|---|---|---|---|---|\n",
       "| 1 | 39 | SL-gov   |  77516 | Bachelors | 13 | Never-married | Adm-clerical      | Not-in-family | White | Male   | 2174 | 0 | 40 | North.America           | &lt;=50K |\n",
       "| 2 | 50 | self-emp |  83311 | Bachelors | 13 | Married       | Exec-managerial   | Husband       | White | Male   |    0 | 0 | 13 | North.America           | &lt;=50K |\n",
       "| 3 | 38 | Private  | 215646 | HS-grad   |  9 | Not-Married   | Handlers-cleaners | Not-in-family | White | Male   |    0 | 0 | 40 | North.America           | &lt;=50K |\n",
       "| 4 | 53 | Private  | 234721 | 11th      |  7 | Married       | Handlers-cleaners | Husband       | Black | Male   |    0 | 0 | 40 | North.America           | &lt;=50K |\n",
       "| 5 | 28 | Private  | 338409 | Bachelors | 13 | Married       | Prof-specialty    | Wife          | Black | Female |    0 | 0 | 40 | Latin.and.South.America | &lt;=50K |\n",
       "| 6 | 37 | Private  | 284582 | Masters   | 14 | Married       | Exec-managerial   | Wife          | White | Female |    0 | 0 | 40 | North.America           | &lt;=50K |\n",
       "\n"
      ],
      "text/plain": [
       "  age type_employer fnlwgt education education_num marital      \n",
       "1 39  SL-gov         77516 Bachelors 13            Never-married\n",
       "2 50  self-emp       83311 Bachelors 13            Married      \n",
       "3 38  Private       215646 HS-grad    9            Not-Married  \n",
       "4 53  Private       234721 11th       7            Married      \n",
       "5 28  Private       338409 Bachelors 13            Married      \n",
       "6 37  Private       284582 Masters   14            Married      \n",
       "  occupation        relationship  race  sex    capital_gain capital_loss\n",
       "1 Adm-clerical      Not-in-family White Male   2174         0           \n",
       "2 Exec-managerial   Husband       White Male      0         0           \n",
       "3 Handlers-cleaners Not-in-family White Male      0         0           \n",
       "4 Handlers-cleaners Husband       Black Male      0         0           \n",
       "5 Prof-specialty    Wife          Black Female    0         0           \n",
       "6 Exec-managerial   Wife          White Female    0         0           \n",
       "  hr_per_week region                  income\n",
       "1 40          North.America           <=50K \n",
       "2 13          North.America           <=50K \n",
       "3 40          North.America           <=50K \n",
       "4 40          North.America           <=50K \n",
       "5 40          Latin.and.South.America <=50K \n",
       "6 40          North.America           <=50K "
      ]
     },
     "metadata": {},
     "output_type": "display_data"
    }
   ],
   "source": [
    "head(data)"
   ]
  },
  {
   "cell_type": "code",
   "execution_count": 43,
   "metadata": {},
   "outputs": [],
   "source": [
    "library(caTools)\n",
    "set.seed(101) \n",
    "sample <- sample.split(data$income, SplitRatio = 0.70)\n",
    "train = subset(data, sample == TRUE)\n",
    "test = subset(data, sample == FALSE)"
   ]
  },
  {
   "cell_type": "code",
   "execution_count": 44,
   "metadata": {},
   "outputs": [
    {
     "name": "stderr",
     "output_type": "stream",
     "text": [
      "Warning message:\n",
      "\"glm.fit: fitted probabilities numerically 0 or 1 occurred\"\n"
     ]
    }
   ],
   "source": [
    "model = glm(income ~ ., family = binomial(logit), data = train)"
   ]
  },
  {
   "cell_type": "code",
   "execution_count": 45,
   "metadata": {},
   "outputs": [
    {
     "data": {
      "text/plain": [
       "\n",
       "Call:\n",
       "glm(formula = income ~ ., family = binomial(logit), data = train)\n",
       "\n",
       "Deviance Residuals: \n",
       "    Min       1Q   Median       3Q      Max  \n",
       "-5.1163  -0.5172  -0.1965   0.0000   3.6235  \n",
       "\n",
       "Coefficients: (1 not defined because of singularities)\n",
       "                                Estimate Std. Error z value Pr(>|z|)    \n",
       "(Intercept)                   -7.364e+00  4.245e-01 -17.346  < 2e-16 ***\n",
       "age                            2.534e-02  2.007e-03  12.627  < 2e-16 ***\n",
       "type_employerself-emp          7.501e-03  8.999e-02   0.083 0.933571    \n",
       "type_employerPrivate           2.371e-01  7.321e-02   3.239 0.001198 ** \n",
       "type_employerFederal-gov       6.835e-01  1.266e-01   5.399 6.71e-08 ***\n",
       "type_employerUnemployed       -1.346e+01  3.688e+02  -0.036 0.970888    \n",
       "fnlwgt                         5.424e-07  2.085e-07   2.601 0.009291 ** \n",
       "education11th                  2.094e-01  2.570e-01   0.814 0.415384    \n",
       "education12th                  3.925e-01  3.410e-01   1.151 0.249612    \n",
       "education1st-4th              -4.590e-01  6.067e-01  -0.757 0.449323    \n",
       "education5th-6th              -8.009e-02  3.980e-01  -0.201 0.840503    \n",
       "education7th-8th              -4.991e-01  2.880e-01  -1.733 0.083096 .  \n",
       "education9th                  -1.229e-02  3.191e-01  -0.038 0.969292    \n",
       "educationAssoc-acdm            1.250e+00  2.165e-01   5.775 7.70e-09 ***\n",
       "educationAssoc-voc             1.452e+00  2.084e-01   6.970 3.17e-12 ***\n",
       "educationBachelors             2.003e+00  1.938e-01  10.337  < 2e-16 ***\n",
       "educationDoctorate             2.874e+00  2.636e-01  10.902  < 2e-16 ***\n",
       "educationHS-grad               8.359e-01  1.888e-01   4.426 9.58e-06 ***\n",
       "educationMasters               2.347e+00  2.063e-01  11.374  < 2e-16 ***\n",
       "educationPreschool            -1.879e+01  1.645e+02  -0.114 0.909053    \n",
       "educationProf-school           2.797e+00  2.468e-01  11.337  < 2e-16 ***\n",
       "educationSome-college          1.203e+00  1.915e-01   6.283 3.33e-10 ***\n",
       "education_num                         NA         NA      NA       NA    \n",
       "maritalMarried                 1.280e+00  1.943e-01   6.588 4.45e-11 ***\n",
       "maritalNot-Married             5.435e-01  9.953e-02   5.460 4.75e-08 ***\n",
       "occupationExec-managerial      7.689e-01  9.095e-02   8.453  < 2e-16 ***\n",
       "occupationHandlers-cleaners   -7.944e-01  1.726e-01  -4.603 4.17e-06 ***\n",
       "occupationProf-specialty       4.957e-01  9.626e-02   5.149 2.62e-07 ***\n",
       "occupationOther-service       -8.248e-01  1.386e-01  -5.952 2.65e-09 ***\n",
       "occupationSales                2.896e-01  9.749e-02   2.971 0.002972 ** \n",
       "occupationCraft-repair         4.151e-02  9.483e-02   0.438 0.661616    \n",
       "occupationTransport-moving    -1.114e-01  1.189e-01  -0.937 0.348928    \n",
       "occupationFarming-fishing     -1.120e+00  1.619e-01  -6.920 4.52e-12 ***\n",
       "occupationMachine-op-inspct   -2.194e-01  1.203e-01  -1.824 0.068080 .  \n",
       "occupationTech-support         6.829e-01  1.325e-01   5.153 2.56e-07 ***\n",
       "occupationProtective-serv      6.029e-01  1.491e-01   4.044 5.24e-05 ***\n",
       "occupationArmed-Forces        -6.252e-01  1.844e+00  -0.339 0.734504    \n",
       "occupationPriv-house-serv     -3.600e+00  1.938e+00  -1.858 0.063179 .  \n",
       "relationshipNot-in-family     -8.661e-01  1.907e-01  -4.541 5.60e-06 ***\n",
       "relationshipOther-relative    -1.086e+00  2.546e-01  -4.268 1.97e-05 ***\n",
       "relationshipOwn-child         -1.797e+00  2.357e-01  -7.625 2.45e-14 ***\n",
       "relationshipUnmarried         -1.031e+00  2.154e-01  -4.784 1.72e-06 ***\n",
       "relationshipWife               1.476e+00  1.235e-01  11.949  < 2e-16 ***\n",
       "raceAsian-Pac-Islander         6.073e-01  3.206e-01   1.894 0.058243 .  \n",
       "raceBlack                      4.528e-01  2.847e-01   1.590 0.111800    \n",
       "raceOther                      4.135e-02  4.217e-01   0.098 0.921902    \n",
       "raceWhite                      6.595e-01  2.711e-01   2.432 0.014997 *  \n",
       "sexMale                        8.855e-01  9.378e-02   9.442  < 2e-16 ***\n",
       "capital_gain                   3.192e-04  1.273e-05  25.076  < 2e-16 ***\n",
       "capital_loss                   6.549e-04  4.561e-05  14.358  < 2e-16 ***\n",
       "hr_per_week                    2.906e-02  1.987e-03  14.623  < 2e-16 ***\n",
       "regionLatin.and.South.America -5.925e-01  1.595e-01  -3.714 0.000204 ***\n",
       "regionAsia                    -6.475e-02  2.044e-01  -0.317 0.751446    \n",
       "regionOther                   -4.300e-01  1.651e-01  -2.604 0.009206 ** \n",
       "regionEurope                   4.404e-02  1.552e-01   0.284 0.776660    \n",
       "---\n",
       "Signif. codes:  0 '***' 0.001 '**' 0.01 '*' 0.05 '.' 0.1 ' ' 1\n",
       "\n",
       "(Dispersion parameter for binomial family taken to be 1)\n",
       "\n",
       "    Null deviance: 24138  on 21502  degrees of freedom\n",
       "Residual deviance: 14004  on 21449  degrees of freedom\n",
       "AIC: 14112\n",
       "\n",
       "Number of Fisher Scoring iterations: 14\n"
      ]
     },
     "metadata": {},
     "output_type": "display_data"
    }
   ],
   "source": [
    "summary(model)"
   ]
  },
  {
   "cell_type": "code",
   "execution_count": 46,
   "metadata": {},
   "outputs": [
    {
     "name": "stdout",
     "output_type": "stream",
     "text": [
      "Start:  AIC=14112.05\n",
      "income ~ age + type_employer + fnlwgt + education + education_num + \n",
      "    marital + occupation + relationship + race + sex + capital_gain + \n",
      "    capital_loss + hr_per_week + region\n",
      "\n"
     ]
    },
    {
     "name": "stderr",
     "output_type": "stream",
     "text": [
      "Warning message:\n",
      "\"glm.fit: fitted probabilities numerically 0 or 1 occurred\"\n",
      "Warning message:\n",
      "\"glm.fit: fitted probabilities numerically 0 or 1 occurred\"\n",
      "Warning message:\n",
      "\"glm.fit: fitted probabilities numerically 0 or 1 occurred\"\n",
      "Warning message:\n",
      "\"glm.fit: fitted probabilities numerically 0 or 1 occurred\"\n",
      "Warning message:\n",
      "\"glm.fit: fitted probabilities numerically 0 or 1 occurred\"\n",
      "Warning message:\n",
      "\"glm.fit: fitted probabilities numerically 0 or 1 occurred\"\n",
      "Warning message:\n",
      "\"glm.fit: fitted probabilities numerically 0 or 1 occurred\"\n",
      "Warning message:\n",
      "\"glm.fit: fitted probabilities numerically 0 or 1 occurred\"\n",
      "Warning message:\n",
      "\"glm.fit: fitted probabilities numerically 0 or 1 occurred\"\n",
      "Warning message:\n",
      "\"glm.fit: fitted probabilities numerically 0 or 1 occurred\"\n",
      "Warning message:\n",
      "\"glm.fit: fitted probabilities numerically 0 or 1 occurred\"\n",
      "Warning message:\n",
      "\"glm.fit: fitted probabilities numerically 0 or 1 occurred\"\n",
      "Warning message:\n",
      "\"glm.fit: fitted probabilities numerically 0 or 1 occurred\"\n",
      "Warning message:\n",
      "\"glm.fit: fitted probabilities numerically 0 or 1 occurred\"\n"
     ]
    },
    {
     "name": "stdout",
     "output_type": "stream",
     "text": [
      "\n",
      "Step:  AIC=14112.05\n",
      "income ~ age + type_employer + fnlwgt + education + marital + \n",
      "    occupation + relationship + race + sex + capital_gain + capital_loss + \n",
      "    hr_per_week + region\n",
      "\n"
     ]
    },
    {
     "name": "stderr",
     "output_type": "stream",
     "text": [
      "Warning message:\n",
      "\"glm.fit: fitted probabilities numerically 0 or 1 occurred\"\n",
      "Warning message:\n",
      "\"glm.fit: fitted probabilities numerically 0 or 1 occurred\"\n",
      "Warning message:\n",
      "\"glm.fit: fitted probabilities numerically 0 or 1 occurred\"\n",
      "Warning message:\n",
      "\"glm.fit: fitted probabilities numerically 0 or 1 occurred\"\n",
      "Warning message:\n",
      "\"glm.fit: fitted probabilities numerically 0 or 1 occurred\"\n",
      "Warning message:\n",
      "\"glm.fit: fitted probabilities numerically 0 or 1 occurred\"\n",
      "Warning message:\n",
      "\"glm.fit: fitted probabilities numerically 0 or 1 occurred\"\n",
      "Warning message:\n",
      "\"glm.fit: fitted probabilities numerically 0 or 1 occurred\"\n",
      "Warning message:\n",
      "\"glm.fit: fitted probabilities numerically 0 or 1 occurred\"\n",
      "Warning message:\n",
      "\"glm.fit: fitted probabilities numerically 0 or 1 occurred\"\n",
      "Warning message:\n",
      "\"glm.fit: fitted probabilities numerically 0 or 1 occurred\"\n",
      "Warning message:\n",
      "\"glm.fit: fitted probabilities numerically 0 or 1 occurred\"\n"
     ]
    },
    {
     "name": "stdout",
     "output_type": "stream",
     "text": [
      "                Df Deviance   AIC\n",
      "<none>                14004 14112\n",
      "- fnlwgt         1    14011 14117\n",
      "- race           4    14019 14119\n",
      "- region         4    14026 14126\n",
      "- type_employer  4    14050 14150\n",
      "- marital        2    14060 14164\n",
      "- sex            1    14097 14203\n",
      "- age            1    14165 14271\n",
      "- capital_loss   1    14217 14323\n",
      "- hr_per_week    1    14222 14328\n",
      "- relationship   5    14288 14386\n",
      "- occupation    13    14444 14526\n",
      "- education     15    14718 14796\n",
      "- capital_gain   1    15248 15354\n"
     ]
    }
   ],
   "source": [
    "step_model <- step(model)"
   ]
  },
  {
   "cell_type": "code",
   "execution_count": 47,
   "metadata": {},
   "outputs": [
    {
     "data": {
      "text/plain": [
       "\n",
       "Call:\n",
       "glm(formula = income ~ age + type_employer + fnlwgt + education + \n",
       "    marital + occupation + relationship + race + sex + capital_gain + \n",
       "    capital_loss + hr_per_week + region, family = binomial(logit), \n",
       "    data = train)\n",
       "\n",
       "Deviance Residuals: \n",
       "    Min       1Q   Median       3Q      Max  \n",
       "-5.1163  -0.5172  -0.1965   0.0000   3.6235  \n",
       "\n",
       "Coefficients:\n",
       "                                Estimate Std. Error z value Pr(>|z|)    \n",
       "(Intercept)                   -7.364e+00  4.245e-01 -17.346  < 2e-16 ***\n",
       "age                            2.534e-02  2.007e-03  12.627  < 2e-16 ***\n",
       "type_employerself-emp          7.501e-03  8.999e-02   0.083 0.933571    \n",
       "type_employerPrivate           2.371e-01  7.321e-02   3.239 0.001198 ** \n",
       "type_employerFederal-gov       6.835e-01  1.266e-01   5.399 6.71e-08 ***\n",
       "type_employerUnemployed       -1.346e+01  3.688e+02  -0.036 0.970888    \n",
       "fnlwgt                         5.424e-07  2.085e-07   2.601 0.009291 ** \n",
       "education11th                  2.094e-01  2.570e-01   0.814 0.415384    \n",
       "education12th                  3.925e-01  3.410e-01   1.151 0.249612    \n",
       "education1st-4th              -4.590e-01  6.067e-01  -0.757 0.449323    \n",
       "education5th-6th              -8.009e-02  3.980e-01  -0.201 0.840503    \n",
       "education7th-8th              -4.991e-01  2.880e-01  -1.733 0.083096 .  \n",
       "education9th                  -1.229e-02  3.191e-01  -0.038 0.969292    \n",
       "educationAssoc-acdm            1.250e+00  2.165e-01   5.775 7.70e-09 ***\n",
       "educationAssoc-voc             1.452e+00  2.084e-01   6.970 3.17e-12 ***\n",
       "educationBachelors             2.003e+00  1.938e-01  10.337  < 2e-16 ***\n",
       "educationDoctorate             2.874e+00  2.636e-01  10.902  < 2e-16 ***\n",
       "educationHS-grad               8.359e-01  1.888e-01   4.426 9.58e-06 ***\n",
       "educationMasters               2.347e+00  2.063e-01  11.374  < 2e-16 ***\n",
       "educationPreschool            -1.879e+01  1.645e+02  -0.114 0.909053    \n",
       "educationProf-school           2.797e+00  2.468e-01  11.337  < 2e-16 ***\n",
       "educationSome-college          1.203e+00  1.915e-01   6.283 3.33e-10 ***\n",
       "maritalMarried                 1.280e+00  1.943e-01   6.588 4.45e-11 ***\n",
       "maritalNot-Married             5.435e-01  9.953e-02   5.460 4.75e-08 ***\n",
       "occupationExec-managerial      7.689e-01  9.095e-02   8.453  < 2e-16 ***\n",
       "occupationHandlers-cleaners   -7.944e-01  1.726e-01  -4.603 4.17e-06 ***\n",
       "occupationProf-specialty       4.957e-01  9.626e-02   5.149 2.62e-07 ***\n",
       "occupationOther-service       -8.248e-01  1.386e-01  -5.952 2.65e-09 ***\n",
       "occupationSales                2.896e-01  9.749e-02   2.971 0.002972 ** \n",
       "occupationCraft-repair         4.151e-02  9.483e-02   0.438 0.661616    \n",
       "occupationTransport-moving    -1.114e-01  1.189e-01  -0.937 0.348928    \n",
       "occupationFarming-fishing     -1.120e+00  1.619e-01  -6.920 4.52e-12 ***\n",
       "occupationMachine-op-inspct   -2.194e-01  1.203e-01  -1.824 0.068080 .  \n",
       "occupationTech-support         6.829e-01  1.325e-01   5.153 2.56e-07 ***\n",
       "occupationProtective-serv      6.029e-01  1.491e-01   4.044 5.24e-05 ***\n",
       "occupationArmed-Forces        -6.252e-01  1.844e+00  -0.339 0.734504    \n",
       "occupationPriv-house-serv     -3.600e+00  1.938e+00  -1.858 0.063179 .  \n",
       "relationshipNot-in-family     -8.661e-01  1.907e-01  -4.541 5.60e-06 ***\n",
       "relationshipOther-relative    -1.086e+00  2.546e-01  -4.268 1.97e-05 ***\n",
       "relationshipOwn-child         -1.797e+00  2.357e-01  -7.625 2.45e-14 ***\n",
       "relationshipUnmarried         -1.031e+00  2.154e-01  -4.784 1.72e-06 ***\n",
       "relationshipWife               1.476e+00  1.235e-01  11.949  < 2e-16 ***\n",
       "raceAsian-Pac-Islander         6.073e-01  3.206e-01   1.894 0.058243 .  \n",
       "raceBlack                      4.528e-01  2.847e-01   1.590 0.111800    \n",
       "raceOther                      4.135e-02  4.217e-01   0.098 0.921902    \n",
       "raceWhite                      6.595e-01  2.711e-01   2.432 0.014997 *  \n",
       "sexMale                        8.855e-01  9.378e-02   9.442  < 2e-16 ***\n",
       "capital_gain                   3.192e-04  1.273e-05  25.076  < 2e-16 ***\n",
       "capital_loss                   6.549e-04  4.561e-05  14.358  < 2e-16 ***\n",
       "hr_per_week                    2.906e-02  1.987e-03  14.623  < 2e-16 ***\n",
       "regionLatin.and.South.America -5.925e-01  1.595e-01  -3.714 0.000204 ***\n",
       "regionAsia                    -6.475e-02  2.044e-01  -0.317 0.751446    \n",
       "regionOther                   -4.300e-01  1.651e-01  -2.604 0.009206 ** \n",
       "regionEurope                   4.404e-02  1.552e-01   0.284 0.776660    \n",
       "---\n",
       "Signif. codes:  0 '***' 0.001 '**' 0.01 '*' 0.05 '.' 0.1 ' ' 1\n",
       "\n",
       "(Dispersion parameter for binomial family taken to be 1)\n",
       "\n",
       "    Null deviance: 24138  on 21502  degrees of freedom\n",
       "Residual deviance: 14004  on 21449  degrees of freedom\n",
       "AIC: 14112\n",
       "\n",
       "Number of Fisher Scoring iterations: 14\n"
      ]
     },
     "metadata": {},
     "output_type": "display_data"
    }
   ],
   "source": [
    "summary(step_model)"
   ]
  },
  {
   "cell_type": "code",
   "execution_count": 48,
   "metadata": {},
   "outputs": [
    {
     "name": "stderr",
     "output_type": "stream",
     "text": [
      "Warning message in predict.lm(object, newdata, se.fit, scale = 1, type = if (type == :\n",
      "\"prediction from a rank-deficient fit may be misleading\"\n"
     ]
    },
    {
     "data": {
      "text/plain": [
       "       \n",
       "        FALSE TRUE\n",
       "  <=50K  6372  548\n",
       "  >50K    872 1423"
      ]
     },
     "metadata": {},
     "output_type": "display_data"
    }
   ],
   "source": [
    "test$predicted.income = predict(model, newdata=test, type=\"response\")\n",
    "\n",
    "table(test$income, test$predicted.income > 0.5)"
   ]
  },
  {
   "cell_type": "code",
   "execution_count": 49,
   "metadata": {},
   "outputs": [
    {
     "data": {
      "text/html": [
       "84.5903418339663"
      ],
      "text/latex": [
       "84.5903418339663"
      ],
      "text/markdown": [
       "84.5903418339663"
      ],
      "text/plain": [
       "[1] 84.59034"
      ]
     },
     "metadata": {},
     "output_type": "display_data"
    }
   ],
   "source": [
    "acc <- (6372+1423)/(6372+1423+548+872)\n",
    "acc*100"
   ]
  },
  {
   "cell_type": "code",
   "execution_count": 50,
   "metadata": {},
   "outputs": [
    {
     "data": {
      "text/html": [
       "0.972832369942197"
      ],
      "text/latex": [
       "0.972832369942197"
      ],
      "text/markdown": [
       "0.972832369942197"
      ],
      "text/plain": [
       "[1] 0.9728324"
      ]
     },
     "metadata": {},
     "output_type": "display_data"
    }
   ],
   "source": [
    "#recall\n",
    "6732/(6372+548)"
   ]
  },
  {
   "cell_type": "code",
   "execution_count": 51,
   "metadata": {},
   "outputs": [
    {
     "data": {
      "text/html": [
       "0.929320817228051"
      ],
      "text/latex": [
       "0.929320817228051"
      ],
      "text/markdown": [
       "0.929320817228051"
      ],
      "text/plain": [
       "[1] 0.9293208"
      ]
     },
     "metadata": {},
     "output_type": "display_data"
    }
   ],
   "source": [
    "#precision\n",
    "6732/(6372+872)"
   ]
  },
  {
   "cell_type": "code",
   "execution_count": null,
   "metadata": {},
   "outputs": [],
   "source": []
  }
 ],
 "metadata": {
  "kernelspec": {
   "display_name": "R",
   "language": "R",
   "name": "ir"
  },
  "language_info": {
   "codemirror_mode": "r",
   "file_extension": ".r",
   "mimetype": "text/x-r-source",
   "name": "R",
   "pygments_lexer": "r",
   "version": "4.0.4"
  }
 },
 "nbformat": 4,
 "nbformat_minor": 2
}
